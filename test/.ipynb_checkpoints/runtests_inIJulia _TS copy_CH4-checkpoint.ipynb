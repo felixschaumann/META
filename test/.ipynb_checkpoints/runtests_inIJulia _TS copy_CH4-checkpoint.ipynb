{
 "cells": [
  {
   "cell_type": "code",
   "execution_count": 7,
   "metadata": {},
   "outputs": [],
   "source": [
    "using Test, CSV, Mimi, Random, Distributions"
   ]
  },
  {
   "cell_type": "code",
   "execution_count": 49,
   "metadata": {},
   "outputs": [
    {
     "data": {
      "text/plain": [
       "test_model (generic function with 1 method)"
      ]
     },
     "execution_count": 49,
     "metadata": {},
     "output_type": "execute_result"
    }
   ],
   "source": [
    "include(\"../src/basemodel.jl\")"
   ]
  },
  {
   "cell_type": "code",
   "execution_count": 25,
   "metadata": {},
   "outputs": [
    {
     "data": {
      "text/html": [
       "<div class=\"data-frame\"><p>191 rows × 14 columns (omitted printing of 6 columns)</p><table class=\"data-frame\"><thead><tr><th></th><th>Year</th><th>Concentration</th><th>f(M,N_2010)</th><th>Forcing (W/m2)</th><th>Column5</th><th>Column6</th><th>Column7</th><th>Column8</th></tr><tr><th></th><th title=\"Int64\">Int64</th><th title=\"Float64\">Float64</th><th title=\"Float64\">Float64</th><th title=\"Float64\">Float64</th><th title=\"Missing\">Missing</th><th title=\"Missing\">Missing</th><th title=\"Missing\">Missing</th><th title=\"Missing\">Missing</th></tr></thead><tbody><tr><th>1</th><td>2010</td><td>1773.13</td><td>0.166044</td><td>0.47362</td><td><em>missing</em></td><td><em>missing</em></td><td><em>missing</em></td><td><em>missing</em></td></tr><tr><th>2</th><td>2011</td><td>1809.45</td><td>0.168247</td><td>0.486864</td><td><em>missing</em></td><td><em>missing</em></td><td><em>missing</em></td><td><em>missing</em></td></tr><tr><th>3</th><td>2012</td><td>1839.96</td><td>0.170085</td><td>0.497886</td><td><em>missing</em></td><td><em>missing</em></td><td><em>missing</em></td><td><em>missing</em></td></tr><tr><th>4</th><td>2013</td><td>1865.15</td><td>0.171592</td><td>0.506911</td><td><em>missing</em></td><td><em>missing</em></td><td><em>missing</em></td><td><em>missing</em></td></tr><tr><th>5</th><td>2014</td><td>1885.43</td><td>0.172799</td><td>0.514133</td><td><em>missing</em></td><td><em>missing</em></td><td><em>missing</em></td><td><em>missing</em></td></tr><tr><th>6</th><td>2015</td><td>1901.2</td><td>0.173735</td><td>0.519722</td><td><em>missing</em></td><td><em>missing</em></td><td><em>missing</em></td><td><em>missing</em></td></tr><tr><th>7</th><td>2016</td><td>1912.83</td><td>0.174422</td><td>0.523827</td><td><em>missing</em></td><td><em>missing</em></td><td><em>missing</em></td><td><em>missing</em></td></tr><tr><th>8</th><td>2017</td><td>1920.65</td><td>0.174884</td><td>0.52658</td><td><em>missing</em></td><td><em>missing</em></td><td><em>missing</em></td><td><em>missing</em></td></tr><tr><th>9</th><td>2018</td><td>1924.96</td><td>0.175138</td><td>0.528097</td><td><em>missing</em></td><td><em>missing</em></td><td><em>missing</em></td><td><em>missing</em></td></tr><tr><th>10</th><td>2019</td><td>1926.06</td><td>0.175203</td><td>0.528482</td><td><em>missing</em></td><td><em>missing</em></td><td><em>missing</em></td><td><em>missing</em></td></tr><tr><th>11</th><td>2020</td><td>1924.19</td><td>0.175093</td><td>0.527826</td><td><em>missing</em></td><td><em>missing</em></td><td><em>missing</em></td><td><em>missing</em></td></tr><tr><th>12</th><td>2021</td><td>1919.6</td><td>0.174822</td><td>0.526213</td><td><em>missing</em></td><td><em>missing</em></td><td><em>missing</em></td><td><em>missing</em></td></tr><tr><th>13</th><td>2022</td><td>1914.62</td><td>0.174528</td><td>0.52446</td><td><em>missing</em></td><td><em>missing</em></td><td><em>missing</em></td><td><em>missing</em></td></tr><tr><th>14</th><td>2023</td><td>1909.29</td><td>0.174213</td><td>0.522578</td><td><em>missing</em></td><td><em>missing</em></td><td><em>missing</em></td><td><em>missing</em></td></tr><tr><th>15</th><td>2024</td><td>1903.62</td><td>0.173878</td><td>0.520577</td><td><em>missing</em></td><td><em>missing</em></td><td><em>missing</em></td><td><em>missing</em></td></tr><tr><th>16</th><td>2025</td><td>1897.65</td><td>0.173524</td><td>0.518465</td><td><em>missing</em></td><td><em>missing</em></td><td><em>missing</em></td><td><em>missing</em></td></tr><tr><th>17</th><td>2026</td><td>1891.4</td><td>0.173154</td><td>0.516251</td><td><em>missing</em></td><td><em>missing</em></td><td><em>missing</em></td><td><em>missing</em></td></tr><tr><th>18</th><td>2027</td><td>1884.89</td><td>0.172767</td><td>0.513943</td><td><em>missing</em></td><td><em>missing</em></td><td><em>missing</em></td><td><em>missing</em></td></tr><tr><th>19</th><td>2028</td><td>1878.15</td><td>0.172367</td><td>0.511546</td><td><em>missing</em></td><td><em>missing</em></td><td><em>missing</em></td><td><em>missing</em></td></tr><tr><th>20</th><td>2029</td><td>1871.19</td><td>0.171952</td><td>0.509068</td><td><em>missing</em></td><td><em>missing</em></td><td><em>missing</em></td><td><em>missing</em></td></tr><tr><th>21</th><td>2030</td><td>1864.04</td><td>0.171525</td><td>0.506514</td><td><em>missing</em></td><td><em>missing</em></td><td><em>missing</em></td><td><em>missing</em></td></tr><tr><th>22</th><td>2031</td><td>1856.7</td><td>0.171087</td><td>0.503889</td><td><em>missing</em></td><td><em>missing</em></td><td><em>missing</em></td><td><em>missing</em></td></tr><tr><th>23</th><td>2032</td><td>1849.57</td><td>0.17066</td><td>0.501335</td><td><em>missing</em></td><td><em>missing</em></td><td><em>missing</em></td><td><em>missing</em></td></tr><tr><th>24</th><td>2033</td><td>1842.63</td><td>0.170245</td><td>0.498845</td><td><em>missing</em></td><td><em>missing</em></td><td><em>missing</em></td><td><em>missing</em></td></tr><tr><th>25</th><td>2034</td><td>1835.87</td><td>0.169839</td><td>0.496414</td><td><em>missing</em></td><td><em>missing</em></td><td><em>missing</em></td><td><em>missing</em></td></tr><tr><th>26</th><td>2035</td><td>1829.28</td><td>0.169443</td><td>0.494037</td><td><em>missing</em></td><td><em>missing</em></td><td><em>missing</em></td><td><em>missing</em></td></tr><tr><th>27</th><td>2036</td><td>1822.84</td><td>0.169055</td><td>0.491711</td><td><em>missing</em></td><td><em>missing</em></td><td><em>missing</em></td><td><em>missing</em></td></tr><tr><th>28</th><td>2037</td><td>1816.53</td><td>0.168675</td><td>0.48943</td><td><em>missing</em></td><td><em>missing</em></td><td><em>missing</em></td><td><em>missing</em></td></tr><tr><th>29</th><td>2038</td><td>1810.35</td><td>0.168302</td><td>0.487192</td><td><em>missing</em></td><td><em>missing</em></td><td><em>missing</em></td><td><em>missing</em></td></tr><tr><th>30</th><td>2039</td><td>1804.29</td><td>0.167935</td><td>0.484991</td><td><em>missing</em></td><td><em>missing</em></td><td><em>missing</em></td><td><em>missing</em></td></tr><tr><th>&vellip;</th><td>&vellip;</td><td>&vellip;</td><td>&vellip;</td><td>&vellip;</td><td>&vellip;</td><td>&vellip;</td><td>&vellip;</td><td>&vellip;</td></tr></tbody></table></div>"
      ],
      "text/latex": [
       "\\begin{tabular}{r|ccccccccc}\n",
       "\t& Year & Concentration & f(M,N\\_2010) & Forcing (W/m2) & Column5 & Column6 & Column7 & Column8 & \\\\\n",
       "\t\\hline\n",
       "\t& Int64 & Float64 & Float64 & Float64 & Missing & Missing & Missing & Missing & \\\\\n",
       "\t\\hline\n",
       "\t1 & 2010 & 1773.13 & 0.166044 & 0.47362 & \\emph{missing} & \\emph{missing} & \\emph{missing} & \\emph{missing} & $\\dots$ \\\\\n",
       "\t2 & 2011 & 1809.45 & 0.168247 & 0.486864 & \\emph{missing} & \\emph{missing} & \\emph{missing} & \\emph{missing} & $\\dots$ \\\\\n",
       "\t3 & 2012 & 1839.96 & 0.170085 & 0.497886 & \\emph{missing} & \\emph{missing} & \\emph{missing} & \\emph{missing} & $\\dots$ \\\\\n",
       "\t4 & 2013 & 1865.15 & 0.171592 & 0.506911 & \\emph{missing} & \\emph{missing} & \\emph{missing} & \\emph{missing} & $\\dots$ \\\\\n",
       "\t5 & 2014 & 1885.43 & 0.172799 & 0.514133 & \\emph{missing} & \\emph{missing} & \\emph{missing} & \\emph{missing} & $\\dots$ \\\\\n",
       "\t6 & 2015 & 1901.2 & 0.173735 & 0.519722 & \\emph{missing} & \\emph{missing} & \\emph{missing} & \\emph{missing} & $\\dots$ \\\\\n",
       "\t7 & 2016 & 1912.83 & 0.174422 & 0.523827 & \\emph{missing} & \\emph{missing} & \\emph{missing} & \\emph{missing} & $\\dots$ \\\\\n",
       "\t8 & 2017 & 1920.65 & 0.174884 & 0.52658 & \\emph{missing} & \\emph{missing} & \\emph{missing} & \\emph{missing} & $\\dots$ \\\\\n",
       "\t9 & 2018 & 1924.96 & 0.175138 & 0.528097 & \\emph{missing} & \\emph{missing} & \\emph{missing} & \\emph{missing} & $\\dots$ \\\\\n",
       "\t10 & 2019 & 1926.06 & 0.175203 & 0.528482 & \\emph{missing} & \\emph{missing} & \\emph{missing} & \\emph{missing} & $\\dots$ \\\\\n",
       "\t11 & 2020 & 1924.19 & 0.175093 & 0.527826 & \\emph{missing} & \\emph{missing} & \\emph{missing} & \\emph{missing} & $\\dots$ \\\\\n",
       "\t12 & 2021 & 1919.6 & 0.174822 & 0.526213 & \\emph{missing} & \\emph{missing} & \\emph{missing} & \\emph{missing} & $\\dots$ \\\\\n",
       "\t13 & 2022 & 1914.62 & 0.174528 & 0.52446 & \\emph{missing} & \\emph{missing} & \\emph{missing} & \\emph{missing} & $\\dots$ \\\\\n",
       "\t14 & 2023 & 1909.29 & 0.174213 & 0.522578 & \\emph{missing} & \\emph{missing} & \\emph{missing} & \\emph{missing} & $\\dots$ \\\\\n",
       "\t15 & 2024 & 1903.62 & 0.173878 & 0.520577 & \\emph{missing} & \\emph{missing} & \\emph{missing} & \\emph{missing} & $\\dots$ \\\\\n",
       "\t16 & 2025 & 1897.65 & 0.173524 & 0.518465 & \\emph{missing} & \\emph{missing} & \\emph{missing} & \\emph{missing} & $\\dots$ \\\\\n",
       "\t17 & 2026 & 1891.4 & 0.173154 & 0.516251 & \\emph{missing} & \\emph{missing} & \\emph{missing} & \\emph{missing} & $\\dots$ \\\\\n",
       "\t18 & 2027 & 1884.89 & 0.172767 & 0.513943 & \\emph{missing} & \\emph{missing} & \\emph{missing} & \\emph{missing} & $\\dots$ \\\\\n",
       "\t19 & 2028 & 1878.15 & 0.172367 & 0.511546 & \\emph{missing} & \\emph{missing} & \\emph{missing} & \\emph{missing} & $\\dots$ \\\\\n",
       "\t20 & 2029 & 1871.19 & 0.171952 & 0.509068 & \\emph{missing} & \\emph{missing} & \\emph{missing} & \\emph{missing} & $\\dots$ \\\\\n",
       "\t21 & 2030 & 1864.04 & 0.171525 & 0.506514 & \\emph{missing} & \\emph{missing} & \\emph{missing} & \\emph{missing} & $\\dots$ \\\\\n",
       "\t22 & 2031 & 1856.7 & 0.171087 & 0.503889 & \\emph{missing} & \\emph{missing} & \\emph{missing} & \\emph{missing} & $\\dots$ \\\\\n",
       "\t23 & 2032 & 1849.57 & 0.17066 & 0.501335 & \\emph{missing} & \\emph{missing} & \\emph{missing} & \\emph{missing} & $\\dots$ \\\\\n",
       "\t24 & 2033 & 1842.63 & 0.170245 & 0.498845 & \\emph{missing} & \\emph{missing} & \\emph{missing} & \\emph{missing} & $\\dots$ \\\\\n",
       "\t25 & 2034 & 1835.87 & 0.169839 & 0.496414 & \\emph{missing} & \\emph{missing} & \\emph{missing} & \\emph{missing} & $\\dots$ \\\\\n",
       "\t26 & 2035 & 1829.28 & 0.169443 & 0.494037 & \\emph{missing} & \\emph{missing} & \\emph{missing} & \\emph{missing} & $\\dots$ \\\\\n",
       "\t27 & 2036 & 1822.84 & 0.169055 & 0.491711 & \\emph{missing} & \\emph{missing} & \\emph{missing} & \\emph{missing} & $\\dots$ \\\\\n",
       "\t28 & 2037 & 1816.53 & 0.168675 & 0.48943 & \\emph{missing} & \\emph{missing} & \\emph{missing} & \\emph{missing} & $\\dots$ \\\\\n",
       "\t29 & 2038 & 1810.35 & 0.168302 & 0.487192 & \\emph{missing} & \\emph{missing} & \\emph{missing} & \\emph{missing} & $\\dots$ \\\\\n",
       "\t30 & 2039 & 1804.29 & 0.167935 & 0.484991 & \\emph{missing} & \\emph{missing} & \\emph{missing} & \\emph{missing} & $\\dots$ \\\\\n",
       "\t$\\dots$ & $\\dots$ & $\\dots$ & $\\dots$ & $\\dots$ & $\\dots$ & $\\dots$ & $\\dots$ & $\\dots$ &  \\\\\n",
       "\\end{tabular}\n"
      ],
      "text/plain": [
       "\u001b[1m191×14 DataFrame\u001b[0m\n",
       "\u001b[1m Row \u001b[0m│\u001b[1m Year  \u001b[0m\u001b[1m Concentration \u001b[0m\u001b[1m f(M,N_2010) \u001b[0m\u001b[1m Forcing (W/m2) \u001b[0m\u001b[1m Column5 \u001b[0m\u001b[1m Column6 \u001b[0m\u001b[1m Co\u001b[0m ⋯\n",
       "\u001b[1m     \u001b[0m│\u001b[90m Int64 \u001b[0m\u001b[90m Float64       \u001b[0m\u001b[90m Float64     \u001b[0m\u001b[90m Float64        \u001b[0m\u001b[90m Missing \u001b[0m\u001b[90m Missing \u001b[0m\u001b[90m Mi\u001b[0m ⋯\n",
       "─────┼──────────────────────────────────────────────────────────────────────────\n",
       "   1 │  2010        1773.13     0.166044        0.47362  \u001b[90m missing \u001b[0m\u001b[90m missing \u001b[0m\u001b[90m mi\u001b[0m ⋯\n",
       "   2 │  2011        1809.45     0.168247        0.486864 \u001b[90m missing \u001b[0m\u001b[90m missing \u001b[0m\u001b[90m mi\u001b[0m\n",
       "   3 │  2012        1839.96     0.170085        0.497886 \u001b[90m missing \u001b[0m\u001b[90m missing \u001b[0m\u001b[90m mi\u001b[0m\n",
       "   4 │  2013        1865.15     0.171592        0.506911 \u001b[90m missing \u001b[0m\u001b[90m missing \u001b[0m\u001b[90m mi\u001b[0m\n",
       "   5 │  2014        1885.43     0.172799        0.514133 \u001b[90m missing \u001b[0m\u001b[90m missing \u001b[0m\u001b[90m mi\u001b[0m ⋯\n",
       "   6 │  2015        1901.2      0.173735        0.519722 \u001b[90m missing \u001b[0m\u001b[90m missing \u001b[0m\u001b[90m mi\u001b[0m\n",
       "   7 │  2016        1912.83     0.174422        0.523827 \u001b[90m missing \u001b[0m\u001b[90m missing \u001b[0m\u001b[90m mi\u001b[0m\n",
       "   8 │  2017        1920.65     0.174884        0.52658  \u001b[90m missing \u001b[0m\u001b[90m missing \u001b[0m\u001b[90m mi\u001b[0m\n",
       "   9 │  2018        1924.96     0.175138        0.528097 \u001b[90m missing \u001b[0m\u001b[90m missing \u001b[0m\u001b[90m mi\u001b[0m ⋯\n",
       "  10 │  2019        1926.06     0.175203        0.528482 \u001b[90m missing \u001b[0m\u001b[90m missing \u001b[0m\u001b[90m mi\u001b[0m\n",
       "  11 │  2020        1924.19     0.175093        0.527826 \u001b[90m missing \u001b[0m\u001b[90m missing \u001b[0m\u001b[90m mi\u001b[0m\n",
       "  ⋮  │   ⋮          ⋮             ⋮             ⋮            ⋮        ⋮        ⋱\n",
       " 182 │  2191        1355.63     0.139239        0.31     \u001b[90m missing \u001b[0m\u001b[90m missing \u001b[0m\u001b[90m mi\u001b[0m\n",
       " 183 │  2192        1355.63     0.139239        0.31     \u001b[90m missing \u001b[0m\u001b[90m missing \u001b[0m\u001b[90m mi\u001b[0m ⋯\n",
       " 184 │  2193        1355.63     0.139239        0.309999 \u001b[90m missing \u001b[0m\u001b[90m missing \u001b[0m\u001b[90m mi\u001b[0m\n",
       " 185 │  2194        1355.63     0.139239        0.309999 \u001b[90m missing \u001b[0m\u001b[90m missing \u001b[0m\u001b[90m mi\u001b[0m\n",
       " 186 │  2195        1355.63     0.139239        0.309998 \u001b[90m missing \u001b[0m\u001b[90m missing \u001b[0m\u001b[90m mi\u001b[0m\n",
       " 187 │  2196        1355.63     0.139238        0.309998 \u001b[90m missing \u001b[0m\u001b[90m missing \u001b[0m\u001b[90m mi\u001b[0m ⋯\n",
       " 188 │  2197        1355.63     0.139238        0.309997 \u001b[90m missing \u001b[0m\u001b[90m missing \u001b[0m\u001b[90m mi\u001b[0m\n",
       " 189 │  2198        1355.63     0.139238        0.309997 \u001b[90m missing \u001b[0m\u001b[90m missing \u001b[0m\u001b[90m mi\u001b[0m\n",
       " 190 │  2199        1355.63     0.139238        0.309997 \u001b[90m missing \u001b[0m\u001b[90m missing \u001b[0m\u001b[90m mi\u001b[0m\n",
       " 191 │  2200        1355.62     0.139238        0.309996 \u001b[90m missing \u001b[0m\u001b[90m missing \u001b[0m\u001b[90m mi\u001b[0m ⋯\n",
       "\u001b[36m                                                  8 columns and 170 rows omitted\u001b[0m"
      ]
     },
     "execution_count": 25,
     "metadata": {},
     "output_type": "execute_result"
    }
   ],
   "source": [
    "benchmark = CSV.read(\"../data/benchmark/CH4Model.csv\", DataFrame)"
   ]
  },
  {
   "cell_type": "code",
   "execution_count": 50,
   "metadata": {},
   "outputs": [
    {
     "data": {
      "text/plain": [
       "Mimi.Model\n",
       "  Module: Mimi\n",
       "  Components:\n",
       "  Built: false\n"
      ]
     },
     "execution_count": 50,
     "metadata": {},
     "output_type": "execute_result"
    }
   ],
   "source": [
    "model = test_model()"
   ]
  },
  {
   "cell_type": "code",
   "execution_count": 51,
   "metadata": {},
   "outputs": [
    {
     "data": {
      "text/plain": [
       "addRCP (generic function with 1 method)"
      ]
     },
     "execution_count": 51,
     "metadata": {},
     "output_type": "execute_result"
    }
   ],
   "source": [
    "include(\"../src/components/RCP.jl\")"
   ]
  },
  {
   "cell_type": "code",
   "execution_count": 52,
   "metadata": {},
   "outputs": [
    {
     "data": {
      "text/plain": [
       "addCH4Model (generic function with 1 method)"
      ]
     },
     "execution_count": 52,
     "metadata": {},
     "output_type": "execute_result"
    }
   ],
   "source": [
    "include(\"../src/components/CH4Model.jl\")"
   ]
  },
  {
   "cell_type": "code",
   "execution_count": 79,
   "metadata": {},
   "outputs": [
    {
     "ename": "LoadError",
     "evalue": "Cannot add two components of the same name (RCP)",
     "output_type": "error",
     "traceback": [
      "Cannot add two components of the same name (RCP)",
      "",
      "Stacktrace:",
      "  [1] error(s::String)",
      "    @ Base .\\error.jl:33",
      "  [2] add_comp!(obj::Mimi.ModelDef, comp_def::Mimi.ComponentDef, comp_name::Symbol; first::Nothing, last::Nothing, before::Nothing, after::Nothing, rename::Nothing)",
      "    @ Mimi C:\\Users\\Thomas\\.julia\\packages\\Mimi\\L0MHf\\src\\core\\defs.jl:1043",
      "  [3] add_comp!(obj::Mimi.ModelDef, comp_def::Mimi.ComponentDef, comp_name::Symbol)",
      "    @ Mimi C:\\Users\\Thomas\\.julia\\packages\\Mimi\\L0MHf\\src\\core\\defs.jl:1043",
      "  [4] add_comp!(obj::Mimi.ModelDef, comp_id::Mimi.ComponentId, comp_name::Symbol; kwargs::Base.Pairs{Symbol, Union{}, Tuple{}, NamedTuple{(), Tuple{}}})",
      "    @ Mimi C:\\Users\\Thomas\\.julia\\packages\\Mimi\\L0MHf\\src\\core\\defs.jl:1108",
      "  [5] add_comp!",
      "    @ C:\\Users\\Thomas\\.julia\\packages\\Mimi\\L0MHf\\src\\core\\defs.jl:1108 [inlined]",
      "  [6] #add_comp!#216",
      "    @ C:\\Users\\Thomas\\.julia\\packages\\Mimi\\L0MHf\\src\\core\\model.jl:239 [inlined]",
      "  [7] add_comp!",
      "    @ C:\\Users\\Thomas\\.julia\\packages\\Mimi\\L0MHf\\src\\core\\model.jl:239 [inlined]",
      "  [8] add_comp!(m::Model, comp_def::Mimi.ComponentDef, comp_name::Symbol; kwargs::Base.Pairs{Symbol, Union{}, Tuple{}, NamedTuple{(), Tuple{}}})",
      "    @ Mimi C:\\Users\\Thomas\\.julia\\packages\\Mimi\\L0MHf\\src\\core\\model.jl:262",
      "  [9] add_comp! (repeats 2 times)",
      "    @ C:\\Users\\Thomas\\.julia\\packages\\Mimi\\L0MHf\\src\\core\\model.jl:262 [inlined]",
      " [10] addRCP(model::Model, scenario::String)",
      "    @ Main C:\\Users\\Thomas\\Dropbox\\Tipping points in climate change economics\\Mimi testbox\\MimiMETA\\src\\components\\RCP.jl:52",
      " [11] top-level scope",
      "    @ In[79]:1",
      " [12] eval",
      "    @ .\\boot.jl:373 [inlined]",
      " [13] include_string(mapexpr::typeof(REPL.softscope), mod::Module, code::String, filename::String)",
      "    @ Base .\\loading.jl:1196"
     ]
    }
   ],
   "source": [
    "RCPmodel = addRCP(model, \"RCP4.5\")"
   ]
  },
  {
   "cell_type": "code",
   "execution_count": 68,
   "metadata": {},
   "outputs": [
    {
     "ename": "LoadError",
     "evalue": "Cannot add two components of the same name (CH4Model)",
     "output_type": "error",
     "traceback": [
      "Cannot add two components of the same name (CH4Model)",
      "",
      "Stacktrace:",
      "  [1] error(s::String)",
      "    @ Base .\\error.jl:33",
      "  [2] add_comp!(obj::Mimi.ModelDef, comp_def::Mimi.ComponentDef, comp_name::Symbol; first::Nothing, last::Nothing, before::Nothing, after::Nothing, rename::Nothing)",
      "    @ Mimi C:\\Users\\Thomas\\.julia\\packages\\Mimi\\L0MHf\\src\\core\\defs.jl:1043",
      "  [3] add_comp!(obj::Mimi.ModelDef, comp_def::Mimi.ComponentDef, comp_name::Symbol)",
      "    @ Mimi C:\\Users\\Thomas\\.julia\\packages\\Mimi\\L0MHf\\src\\core\\defs.jl:1043",
      "  [4] add_comp!(obj::Mimi.ModelDef, comp_id::Mimi.ComponentId, comp_name::Symbol; kwargs::Base.Pairs{Symbol, Union{}, Tuple{}, NamedTuple{(), Tuple{}}})",
      "    @ Mimi C:\\Users\\Thomas\\.julia\\packages\\Mimi\\L0MHf\\src\\core\\defs.jl:1108",
      "  [5] add_comp!",
      "    @ C:\\Users\\Thomas\\.julia\\packages\\Mimi\\L0MHf\\src\\core\\defs.jl:1108 [inlined]",
      "  [6] #add_comp!#216",
      "    @ C:\\Users\\Thomas\\.julia\\packages\\Mimi\\L0MHf\\src\\core\\model.jl:239 [inlined]",
      "  [7] add_comp!",
      "    @ C:\\Users\\Thomas\\.julia\\packages\\Mimi\\L0MHf\\src\\core\\model.jl:239 [inlined]",
      "  [8] add_comp!(m::Model, comp_def::Mimi.ComponentDef, comp_name::Symbol; kwargs::Base.Pairs{Symbol, Union{}, Tuple{}, NamedTuple{(), Tuple{}}})",
      "    @ Mimi C:\\Users\\Thomas\\.julia\\packages\\Mimi\\L0MHf\\src\\core\\model.jl:262",
      "  [9] add_comp! (repeats 2 times)",
      "    @ C:\\Users\\Thomas\\.julia\\packages\\Mimi\\L0MHf\\src\\core\\model.jl:262 [inlined]",
      " [10] addCH4Model(model::Model, ch4calib::String)",
      "    @ Main C:\\Users\\Thomas\\Dropbox\\Tipping points in climate change economics\\Mimi testbox\\MimiMETA\\src\\components\\CH4Model.jl:41",
      " [11] top-level scope",
      "    @ In[68]:1",
      " [12] eval",
      "    @ .\\boot.jl:373 [inlined]",
      " [13] include_string(mapexpr::typeof(REPL.softscope), mod::Module, code::String, filename::String)",
      "    @ Base .\\loading.jl:1196"
     ]
    }
   ],
   "source": [
    "CH4model = addCH4Model(model, \"Value\")"
   ]
  },
  {
   "cell_type": "code",
   "execution_count": 63,
   "metadata": {},
   "outputs": [
    {
     "data": {
      "text/plain": [
       "Mimi.VariableReference\n",
       "  parent: ModelDef id:5217736279948191101\n",
       "    parent: Nothing(:nothing:)\n",
       "    name: Symbol(\"##ModelDef#339\")\n",
       "    comp_id: ComponentId(Mimi.##ModelDef#339)\n",
       "    comp_path: ComponentPath(Symbol(\"##ModelDef#339\"),)\n",
       "    dim_dict: OrderedCollections.OrderedDict{Symbol, Union{Nothing, Mimi.Dimension}}\n",
       "      time => [2010, 2011, 2012, 2013, 2014, 2015, 2016, 2017, 2018, 2019  …  2191, 2192, 2193, 2194, 2195, 2196, 2197, 2198, 2199, 2200]\n",
       "      country => String3[\"AFG\", \"AGO\", \"ALB\", \"AND\", \"ARE\", \"ARG\", \"ARM\", \"ATG\", \"AUS\", \"AUT\"  …  \"USA\", \"UZB\", \"VEN\", \"VNM\", \"VUT\", \"WSM\", \"YEM\", \"ZAF\", \"ZMB\", \"ZWE\"]\n",
       "      region => SubString{String15}[\"ASIA\", \"LAM\", \"MAF\", \"OECD\", \"REF\"]\n",
       "      monsoonsteps => [1, 2, 3, 4, 5, 6, 7, 8, 9, 10  …  26, 27, 28, 29, 30, 31, 32, 33, 34, 35]\n",
       "    first: 2010\n",
       "    last: 2200\n",
       "    is_uniform: true\n",
       "    internal_param_conns: \n",
       "      1: Mimi.InternalParameterConnection\n",
       "        src_comp_path: ComponentPath(Symbol(\"##ModelDef#339\"), :RCP)\n",
       "        src_var_name: :ch4_rcp\n",
       "        dst_comp_path: ComponentPath(Symbol(\"##ModelDef#339\"), :CH4Model)\n",
       "        dst_par_name: :ch4_rcp\n",
       "        ignoreunits: false\n",
       "        backup: nothing\n",
       "        backup_offset: nothing\n",
       "      2: Mimi.InternalParameterConnection\n",
       "        src_comp_path: ComponentPath(Symbol(\"##ModelDef#339\"), :RCP)\n",
       "        src_var_name: :ch4_conc_rcp\n",
       "        dst_comp_path: ComponentPath(Symbol(\"##ModelDef#339\"), :CH4Model)\n",
       "        dst_par_name: :ch4_conc_rcp\n",
       "        ignoreunits: false\n",
       "        backup: nothing\n",
       "        backup_offset: nothing\n",
       "      3: Mimi.InternalParameterConnection\n",
       "        src_comp_path: ComponentPath(Symbol(\"##ModelDef#339\"), :RCP)\n",
       "        src_var_name: :n2o_conc_rcp\n",
       "        dst_comp_path: ComponentPath(Symbol(\"##ModelDef#339\"), :CH4Model)\n",
       "        dst_par_name: :n2o_conc_rcp\n",
       "        ignoreunits: false\n",
       "        backup: nothing\n",
       "        backup_offset: nothing\n",
       "    backups: Vector{Symbol}\n",
       "    external_param_conns: \n",
       "      1: Mimi.ExternalParameterConnection\n",
       "        comp_path: ComponentPath(Symbol(\"##ModelDef#339\"), :RCP)\n",
       "        param_name: :scenario\n",
       "        model_param_name: :RCP_scenario\n",
       "      2: Mimi.ExternalParameterConnection\n",
       "        comp_path: ComponentPath(Symbol(\"##ModelDef#339\"), :CH4Model)\n",
       "        param_name: :alpha\n",
       "        model_param_name: Symbol(\"##346\")\n",
       "      3: Mimi.ExternalParameterConnection\n",
       "        comp_path: ComponentPath(Symbol(\"##ModelDef#339\"), :CH4Model)\n",
       "        param_name: :fMN_parameter1\n",
       "        model_param_name: Symbol(\"##347\")\n",
       "      4: Mimi.ExternalParameterConnection\n",
       "        comp_path: ComponentPath(Symbol(\"##ModelDef#339\"), :CH4Model)\n",
       "        param_name: :fMN_parameter2\n",
       "        model_param_name: Symbol(\"##348\")\n",
       "      5: Mimi.ExternalParameterConnection\n",
       "        comp_path: ComponentPath(Symbol(\"##ModelDef#339\"), :CH4Model)\n",
       "        param_name: :decay_rate\n",
       "        model_param_name: Symbol(\"##349\")\n",
       "      6: Mimi.ExternalParameterConnection\n",
       "        comp_path: ComponentPath(Symbol(\"##ModelDef#339\"), :CH4Model)\n",
       "        param_name: :conversion_ppb_Mt\n",
       "        model_param_name: Symbol(\"##350\")\n",
       "      7: Mimi.ExternalParameterConnection\n",
       "        comp_path: ComponentPath(Symbol(\"##ModelDef#339\"), :CH4Model)\n",
       "        param_name: :CH4_conc_preindustrial\n",
       "        model_param_name: Symbol(\"##351\")\n",
       "      8: Mimi.ExternalParameterConnection\n",
       "        comp_path: ComponentPath(Symbol(\"##ModelDef#339\"), :CH4Model)\n",
       "        param_name: :ch4_pcf\n",
       "        model_param_name: :CH4Model_ch4_pcf\n",
       "      9: Mimi.ExternalParameterConnection\n",
       "        comp_path: ComponentPath(Symbol(\"##ModelDef#339\"), :CH4Model)\n",
       "        param_name: :ch4_omh\n",
       "        model_param_name: :CH4Model_ch4_omh\n",
       "    model_params: Dict{Symbol, Mimi.ModelParameter}\n",
       "      RCP_scenario => Mimi.ScalarModelParameter{String}\n",
       "        value: \"RCP8.5\"\n",
       "        is_shared: true\n",
       "      ##349 => Mimi.ScalarModelParameter{Float64}\n",
       "        value: 0.08064516129032258\n",
       "        is_shared: false\n",
       "      ##347 => Mimi.ScalarModelParameter{Float64}\n",
       "        value: 2.01e-5\n",
       "        is_shared: false\n",
       "      ##348 => Mimi.ScalarModelParameter{Float64}\n",
       "        value: 5.31e-15\n",
       "        is_shared: false\n",
       "      ##351 => Mimi.ScalarModelParameter{Float64}\n",
       "        value: 722.0\n",
       "        is_shared: false\n",
       "      CH4Model_ch4_omh => Mimi.ArrayModelParameter{Mimi.TimestepArray{Mimi.FixedTimestep{2010, 1, 2200}, Union{Missing, Float64}, 1, 1, Vector{Union{Missing, Float64}}}}\n",
       "        values: Mimi.TimestepArray{Mimi.FixedTimestep{2010, 1, 2200}, Union{Missing, Float64}, 1, 1, Vector{Union{Missing, Float64}}}\n",
       "          data: Vector{Union{Missing, Float64}}\n",
       "          1: 0.0\n",
       "          2: 0.0\n",
       "          3: 0.0\n",
       "          4: 0.0\n",
       "          ...\n",
       "          191: 0.0\n",
       "        dim_names: Vector{Symbol}\n",
       "        1: time\n",
       "        is_shared: true\n",
       "      CH4Model_ch4_pcf => Mimi.ArrayModelParameter{Mimi.TimestepArray{Mimi.FixedTimestep{2010, 1, 2200}, Union{Missing, Float64}, 1, 1, Vector{Union{Missing, Float64}}}}\n",
       "        values: Mimi.TimestepArray{Mimi.FixedTimestep{2010, 1, 2200}, Union{Missing, Float64}, 1, 1, Vector{Union{Missing, Float64}}}\n",
       "          data: Vector{Union{Missing, Float64}}\n",
       "          1: 0.0\n",
       "          2: 0.0\n",
       "          3: 0.0\n",
       "          4: 0.0\n",
       "          ...\n",
       "          191: 0.0\n",
       "        dim_names: Vector{Symbol}\n",
       "        1: time\n",
       "        is_shared: true\n",
       "      ##346 => Mimi.ScalarModelParameter{Float64}\n",
       "        value: 0.036\n",
       "        is_shared: false\n",
       "      ##350 => Mimi.ScalarModelParameter{Float64}\n",
       "        value: 2.78\n",
       "        is_shared: false\n",
       "    number_type: Float64\n",
       "    dirty: true\n",
       "    namespace:\n",
       "      RCP: Mimi.ComponentDef\n",
       "      CH4Model: Mimi.ComponentDef\n",
       "  comp_path: ComponentPath(Symbol(\"##ModelDef#339\"), :RCP)\n",
       "  var_name: :n2o_conc_rcp"
      ]
     },
     "execution_count": 63,
     "metadata": {},
     "output_type": "execute_result"
    }
   ],
   "source": [
    "CH4model[:ch4_rcp] = RCPmodel[:ch4_rcp]\n",
    "CH4model[:ch4_conc_rcp] = RCPmodel[:ch4_conc_rcp]\n",
    "CH4model[:n2o_conc_rcp] = RCPmodel[:n2o_conc_rcp]"
   ]
  },
  {
   "cell_type": "code",
   "execution_count": 70,
   "metadata": {},
   "outputs": [],
   "source": [
    "run(model)"
   ]
  },
  {
   "cell_type": "code",
   "execution_count": 72,
   "metadata": {},
   "outputs": [
    {
     "data": {
      "text/plain": [
       "191-element Vector{Union{Missing, Float64}}:\n",
       " 1778.6749\n",
       " 1818.4208729055465\n",
       " 1857.5396764946213\n",
       " 1896.0818889379073\n",
       " 1934.0940095213552\n",
       " 1971.6187875885005\n",
       " 2008.6955249551738\n",
       " 2045.3603539359297\n",
       " 2081.646492948987\n",
       " 2117.58448150787\n",
       " 2153.202396262109\n",
       " 2188.5260496153037\n",
       " 2223.3442298795603\n",
       "    ⋮\n",
       " 4701.504803889774\n",
       " 4702.243443167636\n",
       " 4702.983773754604\n",
       " 4703.725662851905\n",
       " 4704.468981176102\n",
       " 4705.213613466959\n",
       " 4705.959453759424\n",
       " 4706.7064082311335\n",
       " 4707.454383431803\n",
       " 4708.203297044578\n",
       " 4708.953076988187\n",
       " 4709.703649800116"
      ]
     },
     "execution_count": 72,
     "metadata": {},
     "output_type": "execute_result"
    }
   ],
   "source": [
    "concentration_CH4 = model[:CH4Model, :CH4_concentration]"
   ]
  },
  {
   "cell_type": "code",
   "execution_count": 73,
   "metadata": {},
   "outputs": [
    {
     "data": {
      "text/plain": [
       "191-element Vector{Float64}:\n",
       " 1773.1278\n",
       " 1809.446803\n",
       " 1839.964372\n",
       " 1865.148365\n",
       " 1885.428909\n",
       " 1901.201443\n",
       " 1912.829517\n",
       " 1920.64736\n",
       " 1924.96225\n",
       " 1926.056684\n",
       " 1924.190374\n",
       " 1919.602092\n",
       " 1914.623555\n",
       "    ⋮\n",
       " 1355.638106\n",
       " 1355.636352\n",
       " 1355.63474\n",
       " 1355.633258\n",
       " 1355.631895\n",
       " 1355.630642\n",
       " 1355.62949\n",
       " 1355.628431\n",
       " 1355.627458\n",
       " 1355.626563\n",
       " 1355.62574\n",
       " 1355.624984"
      ]
     },
     "execution_count": 73,
     "metadata": {},
     "output_type": "execute_result"
    }
   ],
   "source": [
    "concentration_CH4_compare = benchmark.\"Concentration\""
   ]
  },
  {
   "cell_type": "code",
   "execution_count": 74,
   "metadata": {},
   "outputs": [
    {
     "data": {
      "text/plain": [
       "191-element Vector{Union{Missing, Float64}}:\n",
       " 0.4756378154542627\n",
       " 0.49009986598409805\n",
       " 0.5041754808095885\n",
       " 0.5178949830700982\n",
       " 0.5312857097547848\n",
       " 0.5443723482388456\n",
       " 0.5571772288983348\n",
       " 0.5697205805374087\n",
       " 0.5820207541566376\n",
       " 0.5940944196320499\n",
       " 0.6059567391058089\n",
       " 0.6176215202687386\n",
       " 0.6290247209983537\n",
       " ⋮\n",
       " 1.2827459238130423\n",
       " 1.2829089059568077\n",
       " 1.2830722475991814\n",
       " 1.283235919353199\n",
       " 1.2833998926170327\n",
       " 1.2835641418914114\n",
       " 1.2837286437355884\n",
       " 1.283893377394472\n",
       " 1.2840583222019495\n",
       " 1.284223459953684\n",
       " 1.2843887747081388\n",
       " 1.2845542502246337"
      ]
     },
     "execution_count": 74,
     "metadata": {},
     "output_type": "execute_result"
    }
   ],
   "source": [
    "forcing_CH4 = model[:CH4Model, :F_CH4]"
   ]
  },
  {
   "cell_type": "code",
   "execution_count": 76,
   "metadata": {},
   "outputs": [
    {
     "data": {
      "text/plain": [
       "191-element Vector{Float64}:\n",
       " 0.473620492\n",
       " 0.48686354\n",
       " 0.497885651\n",
       " 0.506910656\n",
       " 0.514132891\n",
       " 0.519722113\n",
       " 0.523827397\n",
       " 0.526580255\n",
       " 0.528097163\n",
       " 0.528481634\n",
       " 0.527825937\n",
       " 0.526212525\n",
       " 0.524459635\n",
       " ⋮\n",
       " 0.310001763\n",
       " 0.310001025\n",
       " 0.310000346\n",
       " 0.309999722\n",
       " 0.309999148\n",
       " 0.309998621\n",
       " 0.309998136\n",
       " 0.30999769\n",
       " 0.30999728\n",
       " 0.309996904\n",
       " 0.309996557\n",
       " 0.309996239"
      ]
     },
     "execution_count": 76,
     "metadata": {},
     "output_type": "execute_result"
    }
   ],
   "source": [
    "forcing_CH4_compare = benchmark.\"Forcing (W/m2)\""
   ]
  },
  {
   "cell_type": "code",
   "execution_count": 78,
   "metadata": {},
   "outputs": [
    {
     "name": "stdout",
     "output_type": "stream",
     "text": [
      "\u001b[91m\u001b[1mTest Failed\u001b[22m\u001b[39m at \u001b[39m\u001b[1mIn[78]:1\u001b[22m\n",
      "  Expression: ≈(concentration_CH4, concentration_CH4_compare, rtol = 0.0001)\n",
      "   Evaluated: Union{Missing, Float64}[1778.6749, 1818.4208729055465, 1857.5396764946213, 1896.0818889379073, 1934.0940095213552, 1971.6187875885005, 2008.6955249551738, 2045.3603539359297, 2081.646492948987, 2117.58448150787  …  4702.983773754604, 4703.725662851905, 4704.468981176102, 4705.213613466959, 4705.959453759424, 4706.7064082311335, 4707.454383431803, 4708.203297044578, 4708.953076988187, 4709.703649800116] ≈ [1773.1278, 1809.446803, 1839.964372, 1865.148365, 1885.428909, 1901.201443, 1912.829517, 1920.64736, 1924.96225, 1926.056684  …  1355.63474, 1355.633258, 1355.631895, 1355.630642, 1355.62949, 1355.628431, 1355.627458, 1355.626563, 1355.62574, 1355.624984] (rtol=0.0001)\n"
     ]
    },
    {
     "ename": "LoadError",
     "evalue": "\u001b[91mThere was an error during testing\u001b[39m",
     "output_type": "error",
     "traceback": [
      "\u001b[91mThere was an error during testing\u001b[39m",
      "",
      "Stacktrace:",
      " [1] record(ts::Test.FallbackTestSet, t::Union{Test.Error, Test.Fail})",
      "   @ Test C:\\Users\\Thomas\\AppData\\Local\\Programs\\Julia-1.7.2\\share\\julia\\stdlib\\v1.7\\Test\\src\\Test.jl:903",
      " [2] do_test(result::Test.ExecutionResult, orig_expr::Any)",
      "   @ Test C:\\Users\\Thomas\\AppData\\Local\\Programs\\Julia-1.7.2\\share\\julia\\stdlib\\v1.7\\Test\\src\\Test.jl:637",
      " [3] top-level scope",
      "   @ C:\\Users\\Thomas\\AppData\\Local\\Programs\\Julia-1.7.2\\share\\julia\\stdlib\\v1.7\\Test\\src\\Test.jl:445",
      " [4] eval",
      "   @ .\\boot.jl:373 [inlined]",
      " [5] include_string(mapexpr::typeof(REPL.softscope), mod::Module, code::String, filename::String)",
      "   @ Base .\\loading.jl:1196"
     ]
    }
   ],
   "source": [
    "@test concentration_CH4 ≈ concentration_CH4_compare rtol=1e-4"
   ]
  },
  {
   "cell_type": "code",
   "execution_count": 77,
   "metadata": {},
   "outputs": [
    {
     "name": "stdout",
     "output_type": "stream",
     "text": [
      "\u001b[91m\u001b[1mTest Failed\u001b[22m\u001b[39m at \u001b[39m\u001b[1mIn[77]:1\u001b[22m\n",
      "  Expression: ≈(forcing_CH4, forcing_CH4_compare, rtol = 0.0001)\n",
      "   Evaluated: Union{Missing, Float64}[0.4756378154542627, 0.49009986598409805, 0.5041754808095885, 0.5178949830700982, 0.5312857097547848, 0.5443723482388456, 0.5571772288983348, 0.5697205805374087, 0.5820207541566376, 0.5940944196320499  …  1.2830722475991814, 1.283235919353199, 1.2833998926170327, 1.2835641418914114, 1.2837286437355884, 1.283893377394472, 1.2840583222019495, 1.284223459953684, 1.2843887747081388, 1.2845542502246337] ≈ [0.473620492, 0.48686354, 0.497885651, 0.506910656, 0.514132891, 0.519722113, 0.523827397, 0.526580255, 0.528097163, 0.528481634  …  0.310000346, 0.309999722, 0.309999148, 0.309998621, 0.309998136, 0.30999769, 0.30999728, 0.309996904, 0.309996557, 0.309996239] (rtol=0.0001)\n"
     ]
    },
    {
     "ename": "LoadError",
     "evalue": "\u001b[91mThere was an error during testing\u001b[39m",
     "output_type": "error",
     "traceback": [
      "\u001b[91mThere was an error during testing\u001b[39m",
      "",
      "Stacktrace:",
      " [1] record(ts::Test.FallbackTestSet, t::Union{Test.Error, Test.Fail})",
      "   @ Test C:\\Users\\Thomas\\AppData\\Local\\Programs\\Julia-1.7.2\\share\\julia\\stdlib\\v1.7\\Test\\src\\Test.jl:903",
      " [2] do_test(result::Test.ExecutionResult, orig_expr::Any)",
      "   @ Test C:\\Users\\Thomas\\AppData\\Local\\Programs\\Julia-1.7.2\\share\\julia\\stdlib\\v1.7\\Test\\src\\Test.jl:637",
      " [3] top-level scope",
      "   @ C:\\Users\\Thomas\\AppData\\Local\\Programs\\Julia-1.7.2\\share\\julia\\stdlib\\v1.7\\Test\\src\\Test.jl:445",
      " [4] eval",
      "   @ .\\boot.jl:373 [inlined]",
      " [5] include_string(mapexpr::typeof(REPL.softscope), mod::Module, code::String, filename::String)",
      "   @ Base .\\loading.jl:1196"
     ]
    }
   ],
   "source": [
    "@test forcing_CH4 ≈ forcing_CH4_compare rtol=1e-4"
   ]
  }
 ],
 "metadata": {
  "kernelspec": {
   "display_name": "Julia 1.7.2",
   "language": "julia",
   "name": "julia-1.7"
  },
  "language_info": {
   "file_extension": ".jl",
   "mimetype": "application/julia",
   "name": "julia",
   "version": "1.7.2"
  }
 },
 "nbformat": 4,
 "nbformat_minor": 5
}
