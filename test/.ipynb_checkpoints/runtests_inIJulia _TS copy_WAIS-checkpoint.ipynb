{
 "cells": [
  {
   "cell_type": "code",
   "execution_count": 157,
   "metadata": {},
   "outputs": [],
   "source": [
    "using Test, CSV, Mimi, Random, Distributions"
   ]
  },
  {
   "cell_type": "code",
   "execution_count": 176,
   "metadata": {},
   "outputs": [
    {
     "data": {
      "text/plain": [
       "test_model (generic function with 1 method)"
      ]
     },
     "execution_count": 176,
     "metadata": {},
     "output_type": "execute_result"
    }
   ],
   "source": [
    "include(\"../src/basemodel.jl\")"
   ]
  },
  {
   "cell_type": "code",
   "execution_count": 159,
   "metadata": {},
   "outputs": [
    {
     "data": {
      "text/html": [
       "<div class=\"data-frame\"><p>191 rows × 7 columns</p><table class=\"data-frame\"><thead><tr><th></th><th>Year</th><th>Temperature</th><th>p_WAIS</th><th>Binomial draw</th><th>I_WAIS</th><th>SLR_WAIS (m)</th><th>Cumulative SLR_WAIS (m)</th></tr><tr><th></th><th title=\"Int64\">Int64</th><th title=\"Float64\">Float64</th><th title=\"String7\">String7</th><th title=\"Int64\">Int64</th><th title=\"Int64\">Int64</th><th title=\"Float64\">Float64</th><th title=\"Float64\">Float64</th></tr></thead><tbody><tr><th>1</th><td>2010</td><td>0.854</td><td>0.03%</td><td>0</td><td>0</td><td>0.0</td><td>0.0</td></tr><tr><th>2</th><td>2011</td><td>0.909663</td><td>0.04%</td><td>0</td><td>0</td><td>0.0</td><td>0.0</td></tr><tr><th>3</th><td>2012</td><td>0.958344</td><td>0.06%</td><td>0</td><td>0</td><td>0.0</td><td>0.0</td></tr><tr><th>4</th><td>2013</td><td>1.00234</td><td>0.07%</td><td>0</td><td>0</td><td>0.0</td><td>0.0</td></tr><tr><th>5</th><td>2014</td><td>1.04304</td><td>0.08%</td><td>0</td><td>0</td><td>0.0</td><td>0.0</td></tr><tr><th>6</th><td>2015</td><td>1.08145</td><td>0.10%</td><td>0</td><td>0</td><td>0.0</td><td>0.0</td></tr><tr><th>7</th><td>2016</td><td>1.11829</td><td>0.12%</td><td>0</td><td>0</td><td>0.0</td><td>0.0</td></tr><tr><th>8</th><td>2017</td><td>1.15408</td><td>0.13%</td><td>0</td><td>0</td><td>0.0</td><td>0.0</td></tr><tr><th>9</th><td>2018</td><td>1.1892</td><td>0.15%</td><td>0</td><td>0</td><td>0.0</td><td>0.0</td></tr><tr><th>10</th><td>2019</td><td>1.22399</td><td>0.17%</td><td>0</td><td>0</td><td>0.0</td><td>0.0</td></tr><tr><th>11</th><td>2020</td><td>1.2588</td><td>0.19%</td><td>0</td><td>0</td><td>0.0</td><td>0.0</td></tr><tr><th>12</th><td>2021</td><td>1.29391</td><td>0.21%</td><td>0</td><td>0</td><td>0.0</td><td>0.0</td></tr><tr><th>13</th><td>2022</td><td>1.3293</td><td>0.23%</td><td>0</td><td>0</td><td>0.0</td><td>0.0</td></tr><tr><th>14</th><td>2023</td><td>1.36483</td><td>0.25%</td><td>0</td><td>0</td><td>0.0</td><td>0.0</td></tr><tr><th>15</th><td>2024</td><td>1.40053</td><td>0.28%</td><td>0</td><td>0</td><td>0.0</td><td>0.0</td></tr><tr><th>16</th><td>2025</td><td>1.4364</td><td>0.30%</td><td>0</td><td>0</td><td>0.0</td><td>0.0</td></tr><tr><th>17</th><td>2026</td><td>1.47247</td><td>0.33%</td><td>0</td><td>0</td><td>0.0</td><td>0.0</td></tr><tr><th>18</th><td>2027</td><td>1.50875</td><td>0.36%</td><td>0</td><td>0</td><td>0.0</td><td>0.0</td></tr><tr><th>19</th><td>2028</td><td>1.54524</td><td>0.38%</td><td>0</td><td>0</td><td>0.0</td><td>0.0</td></tr><tr><th>20</th><td>2029</td><td>1.58196</td><td>0.41%</td><td>0</td><td>0</td><td>0.0</td><td>0.0</td></tr><tr><th>21</th><td>2030</td><td>1.61912</td><td>0.45%</td><td>0</td><td>0</td><td>0.0</td><td>0.0</td></tr><tr><th>22</th><td>2031</td><td>1.65709</td><td>0.48%</td><td>0</td><td>0</td><td>0.0</td><td>0.0</td></tr><tr><th>23</th><td>2032</td><td>1.69593</td><td>0.52%</td><td>0</td><td>0</td><td>0.0</td><td>0.0</td></tr><tr><th>24</th><td>2033</td><td>1.73545</td><td>0.55%</td><td>0</td><td>0</td><td>0.0</td><td>0.0</td></tr><tr><th>25</th><td>2034</td><td>1.77563</td><td>0.59%</td><td>0</td><td>0</td><td>0.0</td><td>0.0</td></tr><tr><th>26</th><td>2035</td><td>1.81641</td><td>0.64%</td><td>0</td><td>0</td><td>0.0</td><td>0.0</td></tr><tr><th>27</th><td>2036</td><td>1.85777</td><td>0.68%</td><td>0</td><td>0</td><td>0.0</td><td>0.0</td></tr><tr><th>28</th><td>2037</td><td>1.89967</td><td>0.73%</td><td>0</td><td>0</td><td>0.0</td><td>0.0</td></tr><tr><th>29</th><td>2038</td><td>1.94207</td><td>0.77%</td><td>0</td><td>0</td><td>0.0</td><td>0.0</td></tr><tr><th>30</th><td>2039</td><td>1.98495</td><td>0.82%</td><td>0</td><td>0</td><td>0.0</td><td>0.0</td></tr><tr><th>&vellip;</th><td>&vellip;</td><td>&vellip;</td><td>&vellip;</td><td>&vellip;</td><td>&vellip;</td><td>&vellip;</td><td>&vellip;</td></tr></tbody></table></div>"
      ],
      "text/latex": [
       "\\begin{tabular}{r|ccccccc}\n",
       "\t& Year & Temperature & p\\_WAIS & Binomial draw & I\\_WAIS & SLR\\_WAIS (m) & Cumulative SLR\\_WAIS (m)\\\\\n",
       "\t\\hline\n",
       "\t& Int64 & Float64 & String7 & Int64 & Int64 & Float64 & Float64\\\\\n",
       "\t\\hline\n",
       "\t1 & 2010 & 0.854 & 0.03\\% & 0 & 0 & 0.0 & 0.0 \\\\\n",
       "\t2 & 2011 & 0.909663 & 0.04\\% & 0 & 0 & 0.0 & 0.0 \\\\\n",
       "\t3 & 2012 & 0.958344 & 0.06\\% & 0 & 0 & 0.0 & 0.0 \\\\\n",
       "\t4 & 2013 & 1.00234 & 0.07\\% & 0 & 0 & 0.0 & 0.0 \\\\\n",
       "\t5 & 2014 & 1.04304 & 0.08\\% & 0 & 0 & 0.0 & 0.0 \\\\\n",
       "\t6 & 2015 & 1.08145 & 0.10\\% & 0 & 0 & 0.0 & 0.0 \\\\\n",
       "\t7 & 2016 & 1.11829 & 0.12\\% & 0 & 0 & 0.0 & 0.0 \\\\\n",
       "\t8 & 2017 & 1.15408 & 0.13\\% & 0 & 0 & 0.0 & 0.0 \\\\\n",
       "\t9 & 2018 & 1.1892 & 0.15\\% & 0 & 0 & 0.0 & 0.0 \\\\\n",
       "\t10 & 2019 & 1.22399 & 0.17\\% & 0 & 0 & 0.0 & 0.0 \\\\\n",
       "\t11 & 2020 & 1.2588 & 0.19\\% & 0 & 0 & 0.0 & 0.0 \\\\\n",
       "\t12 & 2021 & 1.29391 & 0.21\\% & 0 & 0 & 0.0 & 0.0 \\\\\n",
       "\t13 & 2022 & 1.3293 & 0.23\\% & 0 & 0 & 0.0 & 0.0 \\\\\n",
       "\t14 & 2023 & 1.36483 & 0.25\\% & 0 & 0 & 0.0 & 0.0 \\\\\n",
       "\t15 & 2024 & 1.40053 & 0.28\\% & 0 & 0 & 0.0 & 0.0 \\\\\n",
       "\t16 & 2025 & 1.4364 & 0.30\\% & 0 & 0 & 0.0 & 0.0 \\\\\n",
       "\t17 & 2026 & 1.47247 & 0.33\\% & 0 & 0 & 0.0 & 0.0 \\\\\n",
       "\t18 & 2027 & 1.50875 & 0.36\\% & 0 & 0 & 0.0 & 0.0 \\\\\n",
       "\t19 & 2028 & 1.54524 & 0.38\\% & 0 & 0 & 0.0 & 0.0 \\\\\n",
       "\t20 & 2029 & 1.58196 & 0.41\\% & 0 & 0 & 0.0 & 0.0 \\\\\n",
       "\t21 & 2030 & 1.61912 & 0.45\\% & 0 & 0 & 0.0 & 0.0 \\\\\n",
       "\t22 & 2031 & 1.65709 & 0.48\\% & 0 & 0 & 0.0 & 0.0 \\\\\n",
       "\t23 & 2032 & 1.69593 & 0.52\\% & 0 & 0 & 0.0 & 0.0 \\\\\n",
       "\t24 & 2033 & 1.73545 & 0.55\\% & 0 & 0 & 0.0 & 0.0 \\\\\n",
       "\t25 & 2034 & 1.77563 & 0.59\\% & 0 & 0 & 0.0 & 0.0 \\\\\n",
       "\t26 & 2035 & 1.81641 & 0.64\\% & 0 & 0 & 0.0 & 0.0 \\\\\n",
       "\t27 & 2036 & 1.85777 & 0.68\\% & 0 & 0 & 0.0 & 0.0 \\\\\n",
       "\t28 & 2037 & 1.89967 & 0.73\\% & 0 & 0 & 0.0 & 0.0 \\\\\n",
       "\t29 & 2038 & 1.94207 & 0.77\\% & 0 & 0 & 0.0 & 0.0 \\\\\n",
       "\t30 & 2039 & 1.98495 & 0.82\\% & 0 & 0 & 0.0 & 0.0 \\\\\n",
       "\t$\\dots$ & $\\dots$ & $\\dots$ & $\\dots$ & $\\dots$ & $\\dots$ & $\\dots$ & $\\dots$ \\\\\n",
       "\\end{tabular}\n"
      ],
      "text/plain": [
       "\u001b[1m191×7 DataFrame\u001b[0m\n",
       "\u001b[1m Row \u001b[0m│\u001b[1m Year  \u001b[0m\u001b[1m Temperature \u001b[0m\u001b[1m p_WAIS  \u001b[0m\u001b[1m Binomial draw \u001b[0m\u001b[1m I_WAIS \u001b[0m\u001b[1m SLR_WAIS (m) \u001b[0m\u001b[1m Cumul\u001b[0m ⋯\n",
       "\u001b[1m     \u001b[0m│\u001b[90m Int64 \u001b[0m\u001b[90m Float64     \u001b[0m\u001b[90m String7 \u001b[0m\u001b[90m Int64         \u001b[0m\u001b[90m Int64  \u001b[0m\u001b[90m Float64      \u001b[0m\u001b[90m Float\u001b[0m ⋯\n",
       "─────┼──────────────────────────────────────────────────────────────────────────\n",
       "   1 │  2010     0.854     0.03%                0       0     0.0              ⋯\n",
       "   2 │  2011     0.909663  0.04%                0       0     0.0\n",
       "   3 │  2012     0.958344  0.06%                0       0     0.0\n",
       "   4 │  2013     1.00234   0.07%                0       0     0.0\n",
       "   5 │  2014     1.04304   0.08%                0       0     0.0              ⋯\n",
       "   6 │  2015     1.08145   0.10%                0       0     0.0\n",
       "   7 │  2016     1.11829   0.12%                0       0     0.0\n",
       "   8 │  2017     1.15408   0.13%                0       0     0.0\n",
       "   9 │  2018     1.1892    0.15%                0       0     0.0              ⋯\n",
       "  10 │  2019     1.22399   0.17%                0       0     0.0\n",
       "  11 │  2020     1.2588    0.19%                0       0     0.0\n",
       "  ⋮  │   ⋮         ⋮          ⋮           ⋮          ⋮          ⋮              ⋱\n",
       " 182 │  2191     7.8875    22.84%               1       1     0.0271126\n",
       " 183 │  2192     7.91      22.98%               1       1     0.0271126        ⋯\n",
       " 184 │  2193     7.93227   23.12%               1       1     0.0271126\n",
       " 185 │  2194     7.95433   23.26%               1       1     0.0271126\n",
       " 186 │  2195     7.97616   23.40%               1       1     0.0271126\n",
       " 187 │  2196     7.99777   23.53%               1       1     0.0271126        ⋯\n",
       " 188 │  2197     8.01916   23.67%               1       1     0.0271126\n",
       " 189 │  2198     8.04032   23.80%               1       1     0.0271126\n",
       " 190 │  2199     8.06126   23.94%               1       1     0.0271126\n",
       " 191 │  2200     8.08196   24.07%               1       1     0.0271126        ⋯\n",
       "\u001b[36m                                                   1 column and 170 rows omitted\u001b[0m"
      ]
     },
     "execution_count": 159,
     "metadata": {},
     "output_type": "execute_result"
    }
   ],
   "source": [
    "benchmark = CSV.read(\"../data/benchmark/WAIS.csv\", DataFrame)"
   ]
  },
  {
   "cell_type": "code",
   "execution_count": 177,
   "metadata": {},
   "outputs": [
    {
     "data": {
      "text/plain": [
       "Mimi.Model\n",
       "  Module: Mimi\n",
       "  Components:\n",
       "  Built: false\n"
      ]
     },
     "execution_count": 177,
     "metadata": {},
     "output_type": "execute_result"
    }
   ],
   "source": [
    "model = test_model()"
   ]
  },
  {
   "cell_type": "code",
   "execution_count": 178,
   "metadata": {},
   "outputs": [
    {
     "data": {
      "text/plain": [
       "addWAISmodel (generic function with 1 method)"
      ]
     },
     "execution_count": 178,
     "metadata": {},
     "output_type": "execute_result"
    }
   ],
   "source": [
    "include(\"../src/components/WAIS.jl\")"
   ]
  },
  {
   "cell_type": "code",
   "execution_count": 179,
   "metadata": {},
   "outputs": [
    {
     "data": {
      "text/plain": [
       "Mimi.ComponentReference\n",
       "  parent: ModelDef id:9997582664202543781\n",
       "    parent: Nothing(:nothing:)\n",
       "    name: Symbol(\"##ModelDef#351\")\n",
       "    comp_id: ComponentId(Mimi.##ModelDef#351)\n",
       "    comp_path: ComponentPath(Symbol(\"##ModelDef#351\"),)\n",
       "    dim_dict: OrderedCollections.OrderedDict{Symbol, Union{Nothing, Mimi.Dimension}}\n",
       "      time => [2010, 2011, 2012, 2013, 2014, 2015, 2016, 2017, 2018, 2019  …  2191, 2192, 2193, 2194, 2195, 2196, 2197, 2198, 2199, 2200]\n",
       "      country => String3[\"AFG\", \"AGO\", \"ALB\", \"AND\", \"ARE\", \"ARG\", \"ARM\", \"ATG\", \"AUS\", \"AUT\"  …  \"USA\", \"UZB\", \"VEN\", \"VNM\", \"VUT\", \"WSM\", \"YEM\", \"ZAF\", \"ZMB\", \"ZWE\"]\n",
       "      region => SubString{String15}[\"ASIA\", \"LAM\", \"MAF\", \"OECD\", \"REF\"]\n",
       "      monsoonsteps => [1, 2, 3, 4, 5, 6, 7, 8, 9, 10  …  26, 27, 28, 29, 30, 31, 32, 33, 34, 35]\n",
       "    first: 2010\n",
       "    last: 2200\n",
       "    is_uniform: true\n",
       "    internal_param_conns: \n",
       "    backups: Vector{Symbol}\n",
       "    external_param_conns: \n",
       "      1: Mimi.ExternalParameterConnection\n",
       "        comp_path: ComponentPath(Symbol(\"##ModelDef#351\"), :WAISmodel)\n",
       "        param_name: :T_AT\n",
       "        model_param_name: Symbol(\"##352\")\n",
       "      2: Mimi.ExternalParameterConnection\n",
       "        comp_path: ComponentPath(Symbol(\"##ModelDef#351\"), :WAISmodel)\n",
       "        param_name: :uniforms\n",
       "        model_param_name: Symbol(\"##353\")\n",
       "      3: Mimi.ExternalParameterConnection\n",
       "        comp_path: ComponentPath(Symbol(\"##ModelDef#351\"), :WAISmodel)\n",
       "        param_name: :b_WAIS\n",
       "        model_param_name: Symbol(\"##354\")\n",
       "      4: Mimi.ExternalParameterConnection\n",
       "        comp_path: ComponentPath(Symbol(\"##ModelDef#351\"), :WAISmodel)\n",
       "        param_name: :waisrate\n",
       "        model_param_name: Symbol(\"##355\")\n",
       "    model_params: Dict{Symbol, Mimi.ModelParameter}\n",
       "      ##354 => Mimi.ScalarModelParameter{Float64}\n",
       "        value: 0.0043\n",
       "        is_shared: false\n",
       "      ##352 => Mimi.ArrayModelParameter{Nothing}\n",
       "        values: nothing\n",
       "        dim_names: Vector{Symbol}\n",
       "        1: time\n",
       "        is_shared: false\n",
       "      ##353 => Mimi.ArrayModelParameter{Nothing}\n",
       "        values: nothing\n",
       "        dim_names: Vector{Symbol}\n",
       "        1: time\n",
       "        is_shared: false\n",
       "      ##355 => Mimi.ScalarModelParameter{Float64}\n",
       "        value: 0.0033\n",
       "        is_shared: false\n",
       "    number_type: Float64\n",
       "    dirty: true\n",
       "    namespace:\n",
       "      WAISmodel: Mimi.ComponentDef\n",
       "  comp_path: ComponentPath(Symbol(\"##ModelDef#351\"), :WAISmodel)"
      ]
     },
     "execution_count": 179,
     "metadata": {},
     "output_type": "execute_result"
    }
   ],
   "source": [
    "#Add WAIS model\n",
    "WAISmodel = addWAISmodel(model)"
   ]
  },
  {
   "cell_type": "code",
   "execution_count": 187,
   "metadata": {},
   "outputs": [
    {
     "data": {
      "text/plain": [
       "191-element Vector{Int64}:\n",
       " 1\n",
       " 1\n",
       " 1\n",
       " 1\n",
       " 1\n",
       " 1\n",
       " 1\n",
       " 1\n",
       " 1\n",
       " 1\n",
       " 1\n",
       " 1\n",
       " 1\n",
       " ⋮\n",
       " 0\n",
       " 0\n",
       " 0\n",
       " 0\n",
       " 0\n",
       " 0\n",
       " 0\n",
       " 0\n",
       " 0\n",
       " 0\n",
       " 0\n",
       " 0"
      ]
     },
     "execution_count": 187,
     "metadata": {},
     "output_type": "execute_result"
    }
   ],
   "source": [
    "#Add temperature time series from benchmark file (no need to link to temperature module for test)\n",
    "WAISmodel[:T_AT] = benchmark.\"Temperature\" \n",
    "\n",
    "#For the non-Monte Carlo test, only compare cumulative WAIS SLR given a sequence of WAIS indicator function realizations.\n",
    "WAISmodel[:uniforms] = 1 .-benchmark.\"Binomial draw\"\n",
    "\n",
    "WAISmodel[:waisrate] = 0.027112639"
   ]
  },
  {
   "cell_type": "code",
   "execution_count": 190,
   "metadata": {},
   "outputs": [],
   "source": [
    "run(model)"
   ]
  },
  {
   "cell_type": "code",
   "execution_count": 191,
   "metadata": {},
   "outputs": [
    {
     "data": {
      "text/plain": [
       "191-element Vector{Union{Missing, Float64}}:\n",
       " 0.0\n",
       " 0.3553214387044498\n",
       " 0.35507192713321073\n",
       " 0.354846512777441\n",
       " 0.3546380204212813\n",
       " 0.3544413252160882\n",
       " 0.354252746680852\n",
       " 0.35406959675362787\n",
       " 0.35388989619256384\n",
       " 0.3537118881521807\n",
       " 0.3535338840001836\n",
       " 0.3533543727570964\n",
       " 0.3531734796097171\n",
       " ⋮\n",
       " 0.32067329057937005\n",
       " 0.3205614885118593\n",
       " 0.32045083164799837\n",
       " 0.32034129725280847\n",
       " 0.3202328718734981\n",
       " 0.3201255484264131\n",
       " 0.32001932241627257\n",
       " 0.3199141905281756\n",
       " 0.3198101631499688\n",
       " 0.3197072570769007\n",
       " 0.31960547418729934\n",
       " 0.31950480420115107"
      ]
     },
     "execution_count": 191,
     "metadata": {},
     "output_type": "execute_result"
    }
   ],
   "source": [
    "model[:WAISmodel, :p_WAIS]"
   ]
  },
  {
   "cell_type": "code",
   "execution_count": 192,
   "metadata": {},
   "outputs": [
    {
     "data": {
      "text/plain": [
       "191-element Vector{Union{Missing, Float64}}:\n",
       " 0.0\n",
       " 0.0\n",
       " 0.0\n",
       " 0.0\n",
       " 0.0\n",
       " 0.0\n",
       " 0.0\n",
       " 0.0\n",
       " 0.0\n",
       " 0.0\n",
       " 0.0\n",
       " 0.0\n",
       " 0.0\n",
       " ⋮\n",
       " 0.4521000000000014\n",
       " 0.4554000000000014\n",
       " 0.45870000000000144\n",
       " 0.46200000000000147\n",
       " 0.4653000000000015\n",
       " 0.4686000000000015\n",
       " 0.47190000000000154\n",
       " 0.47520000000000157\n",
       " 0.4785000000000016\n",
       " 0.4818000000000016\n",
       " 0.48510000000000164\n",
       " 0.48840000000000167"
      ]
     },
     "execution_count": 192,
     "metadata": {},
     "output_type": "execute_result"
    }
   ],
   "source": [
    "SLR_WAIS = model[:WAISmodel, :SLR_WAIS]"
   ]
  },
  {
   "cell_type": "code",
   "execution_count": 193,
   "metadata": {},
   "outputs": [
    {
     "data": {
      "text/plain": [
       "191-element Vector{Float64}:\n",
       " 0.0\n",
       " 0.0\n",
       " 0.0\n",
       " 0.0\n",
       " 0.0\n",
       " 0.0\n",
       " 0.0\n",
       " 0.0\n",
       " 0.0\n",
       " 0.0\n",
       " 0.0\n",
       " 0.0\n",
       " 0.0\n",
       " ⋮\n",
       " 3.741544171\n",
       " 3.76865681\n",
       " 3.795769449\n",
       " 3.822882088\n",
       " 3.849994727\n",
       " 3.877107366\n",
       " 3.904220005\n",
       " 3.931332643\n",
       " 3.958445282\n",
       " 3.985557921\n",
       " 4.01267056\n",
       " 4.039783199"
      ]
     },
     "execution_count": 193,
     "metadata": {},
     "output_type": "execute_result"
    }
   ],
   "source": [
    "SLR_WAIS_compare = benchmark.\"Cumulative SLR_WAIS (m)\""
   ]
  },
  {
   "cell_type": "code",
   "execution_count": 194,
   "metadata": {},
   "outputs": [
    {
     "name": "stdout",
     "output_type": "stream",
     "text": [
      "\u001b[91m\u001b[1mTest Failed\u001b[22m\u001b[39m at \u001b[39m\u001b[1mIn[194]:1\u001b[22m\n",
      "  Expression: ≈(SLR_WAIS, SLR_WAIS_compare, rtol = 0.0001)\n",
      "   Evaluated: Union{Missing, Float64}[0.0, 0.0, 0.0, 0.0, 0.0, 0.0, 0.0, 0.0, 0.0, 0.0  …  0.45870000000000144, 0.46200000000000147, 0.4653000000000015, 0.4686000000000015, 0.47190000000000154, 0.47520000000000157, 0.4785000000000016, 0.4818000000000016, 0.48510000000000164, 0.48840000000000167] ≈ [0.0, 0.0, 0.0, 0.0, 0.0, 0.0, 0.0, 0.0, 0.0, 0.0  …  3.795769449, 3.822882088, 3.849994727, 3.877107366, 3.904220005, 3.931332643, 3.958445282, 3.985557921, 4.01267056, 4.039783199] (rtol=0.0001)\n"
     ]
    },
    {
     "ename": "LoadError",
     "evalue": "\u001b[91mThere was an error during testing\u001b[39m",
     "output_type": "error",
     "traceback": [
      "\u001b[91mThere was an error during testing\u001b[39m",
      "",
      "Stacktrace:",
      " [1] record(ts::Test.FallbackTestSet, t::Union{Test.Error, Test.Fail})",
      "   @ Test C:\\Users\\Thomas\\AppData\\Local\\Programs\\Julia-1.7.2\\share\\julia\\stdlib\\v1.7\\Test\\src\\Test.jl:903",
      " [2] do_test(result::Test.ExecutionResult, orig_expr::Any)",
      "   @ Test C:\\Users\\Thomas\\AppData\\Local\\Programs\\Julia-1.7.2\\share\\julia\\stdlib\\v1.7\\Test\\src\\Test.jl:637",
      " [3] top-level scope",
      "   @ C:\\Users\\Thomas\\AppData\\Local\\Programs\\Julia-1.7.2\\share\\julia\\stdlib\\v1.7\\Test\\src\\Test.jl:445",
      " [4] eval",
      "   @ .\\boot.jl:373 [inlined]",
      " [5] include_string(mapexpr::typeof(REPL.softscope), mod::Module, code::String, filename::String)",
      "   @ Base .\\loading.jl:1196"
     ]
    }
   ],
   "source": [
    "@test SLR_WAIS ≈ SLR_WAIS_compare rtol=1e-4"
   ]
  }
 ],
 "metadata": {
  "kernelspec": {
   "display_name": "Julia 1.7.2",
   "language": "julia",
   "name": "julia-1.7"
  },
  "language_info": {
   "file_extension": ".jl",
   "mimetype": "application/julia",
   "name": "julia",
   "version": "1.7.2"
  }
 },
 "nbformat": 4,
 "nbformat_minor": 5
}
