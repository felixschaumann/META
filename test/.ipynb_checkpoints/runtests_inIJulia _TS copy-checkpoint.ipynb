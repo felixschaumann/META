{
 "cells": [
  {
   "cell_type": "code",
   "execution_count": 1,
   "metadata": {},
   "outputs": [],
   "source": [
    "using Test, CSV, Mimi, Random, Distributions"
   ]
  },
  {
   "cell_type": "code",
   "execution_count": 2,
   "metadata": {},
   "outputs": [
    {
     "data": {
      "text/plain": [
       "test_model (generic function with 1 method)"
      ]
     },
     "execution_count": 2,
     "metadata": {},
     "output_type": "execute_result"
    }
   ],
   "source": [
    "include(\"../src/basemodel.jl\")"
   ]
  },
  {
   "cell_type": "code",
   "execution_count": 3,
   "metadata": {},
   "outputs": [
    {
     "data": {
      "text/html": [
       "<div class=\"data-frame\"><p>191 rows × 14 columns (omitted printing of 6 columns)</p><table class=\"data-frame\"><thead><tr><th></th><th>Year</th><th>Concentration</th><th>f(M,N_2010)</th><th>Forcing (W/m2)</th><th>Column5</th><th>Column6</th><th>Column7</th><th>Column8</th></tr><tr><th></th><th title=\"Int64\">Int64</th><th title=\"Float64\">Float64</th><th title=\"Float64\">Float64</th><th title=\"Float64\">Float64</th><th title=\"Missing\">Missing</th><th title=\"Missing\">Missing</th><th title=\"Missing\">Missing</th><th title=\"Missing\">Missing</th></tr></thead><tbody><tr><th>1</th><td>2010</td><td>1773.13</td><td>0.166044</td><td>0.47362</td><td><em>missing</em></td><td><em>missing</em></td><td><em>missing</em></td><td><em>missing</em></td></tr><tr><th>2</th><td>2011</td><td>1809.45</td><td>0.168247</td><td>0.486864</td><td><em>missing</em></td><td><em>missing</em></td><td><em>missing</em></td><td><em>missing</em></td></tr><tr><th>3</th><td>2012</td><td>1839.96</td><td>0.170085</td><td>0.497886</td><td><em>missing</em></td><td><em>missing</em></td><td><em>missing</em></td><td><em>missing</em></td></tr><tr><th>4</th><td>2013</td><td>1865.15</td><td>0.171592</td><td>0.506911</td><td><em>missing</em></td><td><em>missing</em></td><td><em>missing</em></td><td><em>missing</em></td></tr><tr><th>5</th><td>2014</td><td>1885.43</td><td>0.172799</td><td>0.514133</td><td><em>missing</em></td><td><em>missing</em></td><td><em>missing</em></td><td><em>missing</em></td></tr><tr><th>6</th><td>2015</td><td>1901.2</td><td>0.173735</td><td>0.519722</td><td><em>missing</em></td><td><em>missing</em></td><td><em>missing</em></td><td><em>missing</em></td></tr><tr><th>7</th><td>2016</td><td>1912.83</td><td>0.174422</td><td>0.523827</td><td><em>missing</em></td><td><em>missing</em></td><td><em>missing</em></td><td><em>missing</em></td></tr><tr><th>8</th><td>2017</td><td>1920.65</td><td>0.174884</td><td>0.52658</td><td><em>missing</em></td><td><em>missing</em></td><td><em>missing</em></td><td><em>missing</em></td></tr><tr><th>9</th><td>2018</td><td>1924.96</td><td>0.175138</td><td>0.528097</td><td><em>missing</em></td><td><em>missing</em></td><td><em>missing</em></td><td><em>missing</em></td></tr><tr><th>10</th><td>2019</td><td>1926.06</td><td>0.175203</td><td>0.528482</td><td><em>missing</em></td><td><em>missing</em></td><td><em>missing</em></td><td><em>missing</em></td></tr><tr><th>11</th><td>2020</td><td>1924.19</td><td>0.175093</td><td>0.527826</td><td><em>missing</em></td><td><em>missing</em></td><td><em>missing</em></td><td><em>missing</em></td></tr><tr><th>12</th><td>2021</td><td>1919.6</td><td>0.174822</td><td>0.526213</td><td><em>missing</em></td><td><em>missing</em></td><td><em>missing</em></td><td><em>missing</em></td></tr><tr><th>13</th><td>2022</td><td>1914.62</td><td>0.174528</td><td>0.52446</td><td><em>missing</em></td><td><em>missing</em></td><td><em>missing</em></td><td><em>missing</em></td></tr><tr><th>14</th><td>2023</td><td>1909.29</td><td>0.174213</td><td>0.522578</td><td><em>missing</em></td><td><em>missing</em></td><td><em>missing</em></td><td><em>missing</em></td></tr><tr><th>15</th><td>2024</td><td>1903.62</td><td>0.173878</td><td>0.520577</td><td><em>missing</em></td><td><em>missing</em></td><td><em>missing</em></td><td><em>missing</em></td></tr><tr><th>16</th><td>2025</td><td>1897.65</td><td>0.173524</td><td>0.518465</td><td><em>missing</em></td><td><em>missing</em></td><td><em>missing</em></td><td><em>missing</em></td></tr><tr><th>17</th><td>2026</td><td>1891.4</td><td>0.173154</td><td>0.516251</td><td><em>missing</em></td><td><em>missing</em></td><td><em>missing</em></td><td><em>missing</em></td></tr><tr><th>18</th><td>2027</td><td>1884.89</td><td>0.172767</td><td>0.513943</td><td><em>missing</em></td><td><em>missing</em></td><td><em>missing</em></td><td><em>missing</em></td></tr><tr><th>19</th><td>2028</td><td>1878.15</td><td>0.172367</td><td>0.511546</td><td><em>missing</em></td><td><em>missing</em></td><td><em>missing</em></td><td><em>missing</em></td></tr><tr><th>20</th><td>2029</td><td>1871.19</td><td>0.171952</td><td>0.509068</td><td><em>missing</em></td><td><em>missing</em></td><td><em>missing</em></td><td><em>missing</em></td></tr><tr><th>21</th><td>2030</td><td>1864.04</td><td>0.171525</td><td>0.506514</td><td><em>missing</em></td><td><em>missing</em></td><td><em>missing</em></td><td><em>missing</em></td></tr><tr><th>22</th><td>2031</td><td>1856.7</td><td>0.171087</td><td>0.503889</td><td><em>missing</em></td><td><em>missing</em></td><td><em>missing</em></td><td><em>missing</em></td></tr><tr><th>23</th><td>2032</td><td>1849.57</td><td>0.17066</td><td>0.501335</td><td><em>missing</em></td><td><em>missing</em></td><td><em>missing</em></td><td><em>missing</em></td></tr><tr><th>24</th><td>2033</td><td>1842.63</td><td>0.170245</td><td>0.498845</td><td><em>missing</em></td><td><em>missing</em></td><td><em>missing</em></td><td><em>missing</em></td></tr><tr><th>25</th><td>2034</td><td>1835.87</td><td>0.169839</td><td>0.496414</td><td><em>missing</em></td><td><em>missing</em></td><td><em>missing</em></td><td><em>missing</em></td></tr><tr><th>26</th><td>2035</td><td>1829.28</td><td>0.169443</td><td>0.494037</td><td><em>missing</em></td><td><em>missing</em></td><td><em>missing</em></td><td><em>missing</em></td></tr><tr><th>27</th><td>2036</td><td>1822.84</td><td>0.169055</td><td>0.491711</td><td><em>missing</em></td><td><em>missing</em></td><td><em>missing</em></td><td><em>missing</em></td></tr><tr><th>28</th><td>2037</td><td>1816.53</td><td>0.168675</td><td>0.48943</td><td><em>missing</em></td><td><em>missing</em></td><td><em>missing</em></td><td><em>missing</em></td></tr><tr><th>29</th><td>2038</td><td>1810.35</td><td>0.168302</td><td>0.487192</td><td><em>missing</em></td><td><em>missing</em></td><td><em>missing</em></td><td><em>missing</em></td></tr><tr><th>30</th><td>2039</td><td>1804.29</td><td>0.167935</td><td>0.484991</td><td><em>missing</em></td><td><em>missing</em></td><td><em>missing</em></td><td><em>missing</em></td></tr><tr><th>&vellip;</th><td>&vellip;</td><td>&vellip;</td><td>&vellip;</td><td>&vellip;</td><td>&vellip;</td><td>&vellip;</td><td>&vellip;</td><td>&vellip;</td></tr></tbody></table></div>"
      ],
      "text/latex": [
       "\\begin{tabular}{r|ccccccccc}\n",
       "\t& Year & Concentration & f(M,N\\_2010) & Forcing (W/m2) & Column5 & Column6 & Column7 & Column8 & \\\\\n",
       "\t\\hline\n",
       "\t& Int64 & Float64 & Float64 & Float64 & Missing & Missing & Missing & Missing & \\\\\n",
       "\t\\hline\n",
       "\t1 & 2010 & 1773.13 & 0.166044 & 0.47362 & \\emph{missing} & \\emph{missing} & \\emph{missing} & \\emph{missing} & $\\dots$ \\\\\n",
       "\t2 & 2011 & 1809.45 & 0.168247 & 0.486864 & \\emph{missing} & \\emph{missing} & \\emph{missing} & \\emph{missing} & $\\dots$ \\\\\n",
       "\t3 & 2012 & 1839.96 & 0.170085 & 0.497886 & \\emph{missing} & \\emph{missing} & \\emph{missing} & \\emph{missing} & $\\dots$ \\\\\n",
       "\t4 & 2013 & 1865.15 & 0.171592 & 0.506911 & \\emph{missing} & \\emph{missing} & \\emph{missing} & \\emph{missing} & $\\dots$ \\\\\n",
       "\t5 & 2014 & 1885.43 & 0.172799 & 0.514133 & \\emph{missing} & \\emph{missing} & \\emph{missing} & \\emph{missing} & $\\dots$ \\\\\n",
       "\t6 & 2015 & 1901.2 & 0.173735 & 0.519722 & \\emph{missing} & \\emph{missing} & \\emph{missing} & \\emph{missing} & $\\dots$ \\\\\n",
       "\t7 & 2016 & 1912.83 & 0.174422 & 0.523827 & \\emph{missing} & \\emph{missing} & \\emph{missing} & \\emph{missing} & $\\dots$ \\\\\n",
       "\t8 & 2017 & 1920.65 & 0.174884 & 0.52658 & \\emph{missing} & \\emph{missing} & \\emph{missing} & \\emph{missing} & $\\dots$ \\\\\n",
       "\t9 & 2018 & 1924.96 & 0.175138 & 0.528097 & \\emph{missing} & \\emph{missing} & \\emph{missing} & \\emph{missing} & $\\dots$ \\\\\n",
       "\t10 & 2019 & 1926.06 & 0.175203 & 0.528482 & \\emph{missing} & \\emph{missing} & \\emph{missing} & \\emph{missing} & $\\dots$ \\\\\n",
       "\t11 & 2020 & 1924.19 & 0.175093 & 0.527826 & \\emph{missing} & \\emph{missing} & \\emph{missing} & \\emph{missing} & $\\dots$ \\\\\n",
       "\t12 & 2021 & 1919.6 & 0.174822 & 0.526213 & \\emph{missing} & \\emph{missing} & \\emph{missing} & \\emph{missing} & $\\dots$ \\\\\n",
       "\t13 & 2022 & 1914.62 & 0.174528 & 0.52446 & \\emph{missing} & \\emph{missing} & \\emph{missing} & \\emph{missing} & $\\dots$ \\\\\n",
       "\t14 & 2023 & 1909.29 & 0.174213 & 0.522578 & \\emph{missing} & \\emph{missing} & \\emph{missing} & \\emph{missing} & $\\dots$ \\\\\n",
       "\t15 & 2024 & 1903.62 & 0.173878 & 0.520577 & \\emph{missing} & \\emph{missing} & \\emph{missing} & \\emph{missing} & $\\dots$ \\\\\n",
       "\t16 & 2025 & 1897.65 & 0.173524 & 0.518465 & \\emph{missing} & \\emph{missing} & \\emph{missing} & \\emph{missing} & $\\dots$ \\\\\n",
       "\t17 & 2026 & 1891.4 & 0.173154 & 0.516251 & \\emph{missing} & \\emph{missing} & \\emph{missing} & \\emph{missing} & $\\dots$ \\\\\n",
       "\t18 & 2027 & 1884.89 & 0.172767 & 0.513943 & \\emph{missing} & \\emph{missing} & \\emph{missing} & \\emph{missing} & $\\dots$ \\\\\n",
       "\t19 & 2028 & 1878.15 & 0.172367 & 0.511546 & \\emph{missing} & \\emph{missing} & \\emph{missing} & \\emph{missing} & $\\dots$ \\\\\n",
       "\t20 & 2029 & 1871.19 & 0.171952 & 0.509068 & \\emph{missing} & \\emph{missing} & \\emph{missing} & \\emph{missing} & $\\dots$ \\\\\n",
       "\t21 & 2030 & 1864.04 & 0.171525 & 0.506514 & \\emph{missing} & \\emph{missing} & \\emph{missing} & \\emph{missing} & $\\dots$ \\\\\n",
       "\t22 & 2031 & 1856.7 & 0.171087 & 0.503889 & \\emph{missing} & \\emph{missing} & \\emph{missing} & \\emph{missing} & $\\dots$ \\\\\n",
       "\t23 & 2032 & 1849.57 & 0.17066 & 0.501335 & \\emph{missing} & \\emph{missing} & \\emph{missing} & \\emph{missing} & $\\dots$ \\\\\n",
       "\t24 & 2033 & 1842.63 & 0.170245 & 0.498845 & \\emph{missing} & \\emph{missing} & \\emph{missing} & \\emph{missing} & $\\dots$ \\\\\n",
       "\t25 & 2034 & 1835.87 & 0.169839 & 0.496414 & \\emph{missing} & \\emph{missing} & \\emph{missing} & \\emph{missing} & $\\dots$ \\\\\n",
       "\t26 & 2035 & 1829.28 & 0.169443 & 0.494037 & \\emph{missing} & \\emph{missing} & \\emph{missing} & \\emph{missing} & $\\dots$ \\\\\n",
       "\t27 & 2036 & 1822.84 & 0.169055 & 0.491711 & \\emph{missing} & \\emph{missing} & \\emph{missing} & \\emph{missing} & $\\dots$ \\\\\n",
       "\t28 & 2037 & 1816.53 & 0.168675 & 0.48943 & \\emph{missing} & \\emph{missing} & \\emph{missing} & \\emph{missing} & $\\dots$ \\\\\n",
       "\t29 & 2038 & 1810.35 & 0.168302 & 0.487192 & \\emph{missing} & \\emph{missing} & \\emph{missing} & \\emph{missing} & $\\dots$ \\\\\n",
       "\t30 & 2039 & 1804.29 & 0.167935 & 0.484991 & \\emph{missing} & \\emph{missing} & \\emph{missing} & \\emph{missing} & $\\dots$ \\\\\n",
       "\t$\\dots$ & $\\dots$ & $\\dots$ & $\\dots$ & $\\dots$ & $\\dots$ & $\\dots$ & $\\dots$ & $\\dots$ &  \\\\\n",
       "\\end{tabular}\n"
      ],
      "text/plain": [
       "\u001b[1m191×14 DataFrame\u001b[0m\n",
       "\u001b[1m Row \u001b[0m│\u001b[1m Year  \u001b[0m\u001b[1m Concentration \u001b[0m\u001b[1m f(M,N_2010) \u001b[0m\u001b[1m Forcing (W/m2) \u001b[0m\u001b[1m Column5 \u001b[0m\u001b[1m Column6 \u001b[0m\u001b[1m Co\u001b[0m ⋯\n",
       "\u001b[1m     \u001b[0m│\u001b[90m Int64 \u001b[0m\u001b[90m Float64       \u001b[0m\u001b[90m Float64     \u001b[0m\u001b[90m Float64        \u001b[0m\u001b[90m Missing \u001b[0m\u001b[90m Missing \u001b[0m\u001b[90m Mi\u001b[0m ⋯\n",
       "─────┼──────────────────────────────────────────────────────────────────────────\n",
       "   1 │  2010        1773.13     0.166044        0.47362  \u001b[90m missing \u001b[0m\u001b[90m missing \u001b[0m\u001b[90m mi\u001b[0m ⋯\n",
       "   2 │  2011        1809.45     0.168247        0.486864 \u001b[90m missing \u001b[0m\u001b[90m missing \u001b[0m\u001b[90m mi\u001b[0m\n",
       "   3 │  2012        1839.96     0.170085        0.497886 \u001b[90m missing \u001b[0m\u001b[90m missing \u001b[0m\u001b[90m mi\u001b[0m\n",
       "   4 │  2013        1865.15     0.171592        0.506911 \u001b[90m missing \u001b[0m\u001b[90m missing \u001b[0m\u001b[90m mi\u001b[0m\n",
       "   5 │  2014        1885.43     0.172799        0.514133 \u001b[90m missing \u001b[0m\u001b[90m missing \u001b[0m\u001b[90m mi\u001b[0m ⋯\n",
       "   6 │  2015        1901.2      0.173735        0.519722 \u001b[90m missing \u001b[0m\u001b[90m missing \u001b[0m\u001b[90m mi\u001b[0m\n",
       "   7 │  2016        1912.83     0.174422        0.523827 \u001b[90m missing \u001b[0m\u001b[90m missing \u001b[0m\u001b[90m mi\u001b[0m\n",
       "   8 │  2017        1920.65     0.174884        0.52658  \u001b[90m missing \u001b[0m\u001b[90m missing \u001b[0m\u001b[90m mi\u001b[0m\n",
       "   9 │  2018        1924.96     0.175138        0.528097 \u001b[90m missing \u001b[0m\u001b[90m missing \u001b[0m\u001b[90m mi\u001b[0m ⋯\n",
       "  10 │  2019        1926.06     0.175203        0.528482 \u001b[90m missing \u001b[0m\u001b[90m missing \u001b[0m\u001b[90m mi\u001b[0m\n",
       "  11 │  2020        1924.19     0.175093        0.527826 \u001b[90m missing \u001b[0m\u001b[90m missing \u001b[0m\u001b[90m mi\u001b[0m\n",
       "  ⋮  │   ⋮          ⋮             ⋮             ⋮            ⋮        ⋮        ⋱\n",
       " 182 │  2191        1355.63     0.139239        0.31     \u001b[90m missing \u001b[0m\u001b[90m missing \u001b[0m\u001b[90m mi\u001b[0m\n",
       " 183 │  2192        1355.63     0.139239        0.31     \u001b[90m missing \u001b[0m\u001b[90m missing \u001b[0m\u001b[90m mi\u001b[0m ⋯\n",
       " 184 │  2193        1355.63     0.139239        0.309999 \u001b[90m missing \u001b[0m\u001b[90m missing \u001b[0m\u001b[90m mi\u001b[0m\n",
       " 185 │  2194        1355.63     0.139239        0.309999 \u001b[90m missing \u001b[0m\u001b[90m missing \u001b[0m\u001b[90m mi\u001b[0m\n",
       " 186 │  2195        1355.63     0.139239        0.309998 \u001b[90m missing \u001b[0m\u001b[90m missing \u001b[0m\u001b[90m mi\u001b[0m\n",
       " 187 │  2196        1355.63     0.139238        0.309998 \u001b[90m missing \u001b[0m\u001b[90m missing \u001b[0m\u001b[90m mi\u001b[0m ⋯\n",
       " 188 │  2197        1355.63     0.139238        0.309997 \u001b[90m missing \u001b[0m\u001b[90m missing \u001b[0m\u001b[90m mi\u001b[0m\n",
       " 189 │  2198        1355.63     0.139238        0.309997 \u001b[90m missing \u001b[0m\u001b[90m missing \u001b[0m\u001b[90m mi\u001b[0m\n",
       " 190 │  2199        1355.63     0.139238        0.309997 \u001b[90m missing \u001b[0m\u001b[90m missing \u001b[0m\u001b[90m mi\u001b[0m\n",
       " 191 │  2200        1355.62     0.139238        0.309996 \u001b[90m missing \u001b[0m\u001b[90m missing \u001b[0m\u001b[90m mi\u001b[0m ⋯\n",
       "\u001b[36m                                                  8 columns and 170 rows omitted\u001b[0m"
      ]
     },
     "execution_count": 3,
     "metadata": {},
     "output_type": "execute_result"
    }
   ],
   "source": [
    "benchmark = CSV.read(\"../data/benchmark/CH4Model.csv\", DataFrame)"
   ]
  },
  {
   "cell_type": "code",
   "execution_count": 16,
   "metadata": {},
   "outputs": [
    {
     "data": {
      "text/plain": [
       "Mimi.Model\n",
       "  Module: Mimi\n",
       "  Components:\n",
       "  Built: false\n"
      ]
     },
     "execution_count": 16,
     "metadata": {},
     "output_type": "execute_result"
    }
   ],
   "source": [
    "model = test_model()"
   ]
  },
  {
   "cell_type": "code",
   "execution_count": 17,
   "metadata": {},
   "outputs": [
    {
     "data": {
      "text/plain": [
       "addRCP (generic function with 1 method)"
      ]
     },
     "execution_count": 17,
     "metadata": {},
     "output_type": "execute_result"
    }
   ],
   "source": [
    "include(\"../src/components/RCP.jl\")"
   ]
  },
  {
   "cell_type": "code",
   "execution_count": 18,
   "metadata": {},
   "outputs": [
    {
     "data": {
      "text/plain": [
       "addCH4Model (generic function with 1 method)"
      ]
     },
     "execution_count": 18,
     "metadata": {},
     "output_type": "execute_result"
    }
   ],
   "source": [
    "include(\"../src/components/CH4Model.jl\")"
   ]
  },
  {
   "cell_type": "code",
   "execution_count": 13,
   "metadata": {},
   "outputs": [
    {
     "data": {
      "text/plain": [
       "191"
      ]
     },
     "execution_count": 13,
     "metadata": {},
     "output_type": "execute_result"
    }
   ],
   "source": [
    "#dim_count(model, :time)"
   ]
  },
  {
   "cell_type": "code",
   "execution_count": 12,
   "metadata": {},
   "outputs": [
    {
     "ename": "LoadError",
     "evalue": "MethodError: no method matching Array(::Tables.CopiedColumns{CSV.File})\n\u001b[0mClosest candidates are:\n\u001b[0m  Array(\u001b[91m::Union{LinearAlgebra.QR, LinearAlgebra.QRCompactWY}\u001b[39m) at C:\\Users\\Thomas\\AppData\\Local\\Programs\\Julia-1.7.2\\share\\julia\\stdlib\\v1.7\\LinearAlgebra\\src\\qr.jl:442\n\u001b[0m  Array(\u001b[91m::Union{LinearAlgebra.Hermitian, LinearAlgebra.Symmetric}\u001b[39m) at C:\\Users\\Thomas\\AppData\\Local\\Programs\\Julia-1.7.2\\share\\julia\\stdlib\\v1.7\\LinearAlgebra\\src\\symmetric.jl:271\n\u001b[0m  Array(\u001b[91m::ChainRulesCore.AbstractThunk\u001b[39m) at C:\\Users\\Thomas\\.julia\\packages\\ChainRulesCore\\uxrij\\src\\tangent_types\\thunks.jl:57\n\u001b[0m  ...",
     "output_type": "error",
     "traceback": [
      "MethodError: no method matching Array(::Tables.CopiedColumns{CSV.File})\n\u001b[0mClosest candidates are:\n\u001b[0m  Array(\u001b[91m::Union{LinearAlgebra.QR, LinearAlgebra.QRCompactWY}\u001b[39m) at C:\\Users\\Thomas\\AppData\\Local\\Programs\\Julia-1.7.2\\share\\julia\\stdlib\\v1.7\\LinearAlgebra\\src\\qr.jl:442\n\u001b[0m  Array(\u001b[91m::Union{LinearAlgebra.Hermitian, LinearAlgebra.Symmetric}\u001b[39m) at C:\\Users\\Thomas\\AppData\\Local\\Programs\\Julia-1.7.2\\share\\julia\\stdlib\\v1.7\\LinearAlgebra\\src\\symmetric.jl:271\n\u001b[0m  Array(\u001b[91m::ChainRulesCore.AbstractThunk\u001b[39m) at C:\\Users\\Thomas\\.julia\\packages\\ChainRulesCore\\uxrij\\src\\tangent_types\\thunks.jl:57\n\u001b[0m  ...",
      "",
      "Stacktrace:",
      " [1] |>(x::Tables.CopiedColumns{CSV.File}, f::Type{Array})",
      "   @ Base .\\operators.jl:966",
      " [2] read(source::String, sink::Type; copycols::Bool, kwargs::Base.Pairs{Symbol, Any, Tuple{Symbol, Symbol, Symbol}, NamedTuple{(:limit, :header, :missingstring), Tuple{Int64, Int64, String}}})",
      "   @ CSV C:\\Users\\Thomas\\.julia\\packages\\CSV\\0Elut\\src\\CSV.jl:91",
      " [3] top-level scope",
      "   @ In[12]:2",
      " [4] eval",
      "   @ .\\boot.jl:373 [inlined]",
      " [5] include_string(mapexpr::typeof(REPL.softscope), mod::Module, code::String, filename::String)",
      "   @ Base .\\loading.jl:1196"
     ]
    }
   ],
   "source": [
    "\n",
    "#scenarios = vec(convert(Array, CSV.read(\"../data/RCPs.csv\", DataFrame, limit=1, header=0, missingstring=\"NA\")))\n",
    "#scenarios = vec(CSV.read(\"../data/RCPs.csv\", Array, limit=1, header=0, missingstring=\"NA\"))\n",
    "#rcps = CSV.read(\"../data/RCPs.csv\", DataFrame, header=2,select=scenarios .==\"RCP8.5\")"
   ]
  },
  {
   "cell_type": "code",
   "execution_count": 19,
   "metadata": {},
   "outputs": [
    {
     "ename": "LoadError",
     "evalue": "Cannot find parameter :conc_CH4 in component ComponentPath(Symbol(\"##ModelDef#302\"), :CH4Model)",
     "output_type": "error",
     "traceback": [
      "Cannot find parameter :conc_CH4 in component ComponentPath(Symbol(\"##ModelDef#302\"), :CH4Model)",
      "",
      "Stacktrace:",
      " [1] error(s::String)",
      "   @ Base .\\error.jl:33",
      " [2] set_param!(md::Mimi.ModelDef, comp_def::Mimi.ComponentDef, param_name::Symbol, model_param_name::Symbol, value::Vector{Float64}; dims::Nothing)",
      "   @ Mimi C:\\Users\\Thomas\\.julia\\packages\\Mimi\\L0MHf\\src\\core\\defs.jl:537",
      " [3] set_param!(md::Mimi.ModelDef, comp_def::Mimi.ComponentDef, param_name::Symbol, model_param_name::Symbol, value::Vector{Float64})",
      "   @ Mimi C:\\Users\\Thomas\\.julia\\packages\\Mimi\\L0MHf\\src\\core\\defs.jl:536",
      " [4] set_param!(ref::Mimi.ComponentReference, name::Symbol, value::Vector{Float64})",
      "   @ Mimi C:\\Users\\Thomas\\.julia\\packages\\Mimi\\L0MHf\\src\\core\\references.jl:11",
      " [5] setindex!(ref::Mimi.ComponentReference, value::Vector{Float64}, name::Symbol)",
      "   @ Mimi C:\\Users\\Thomas\\.julia\\packages\\Mimi\\L0MHf\\src\\core\\references.jl:40",
      " [6] top-level scope",
      "   @ In[19]:3",
      " [7] eval",
      "   @ .\\boot.jl:373 [inlined]",
      " [8] include_string(mapexpr::typeof(REPL.softscope), mod::Module, code::String, filename::String)",
      "   @ Base .\\loading.jl:1196"
     ]
    }
   ],
   "source": [
    "CH4model = addCH4Model(model, \"Value\")\n",
    "#Now add comparison values from the benchmark file\n",
    "CH4model[:CH4_concentration] = benchmark.\"Concentration\" \n",
    "CH4model[:forcing] = benchmark.\"Forcing (W/m2)\""
   ]
  },
  {
   "cell_type": "code",
   "execution_count": null,
   "metadata": {},
   "outputs": [],
   "source": [
    "run(model)"
   ]
  },
  {
   "cell_type": "code",
   "execution_count": null,
   "metadata": {},
   "outputs": [],
   "source": [
    "#compare key CH4 module output: forcing\n",
    "forcing_CH4 = model[:CH4Model, :forcing]"
   ]
  },
  {
   "cell_type": "code",
   "execution_count": null,
   "metadata": {},
   "outputs": [],
   "source": [
    "forcing_CH4_compare = benchmark.\"Forcing(W/m2)\""
   ]
  },
  {
   "cell_type": "code",
   "execution_count": null,
   "metadata": {},
   "outputs": [],
   "source": []
  },
  {
   "cell_type": "code",
   "execution_count": null,
   "metadata": {},
   "outputs": [],
   "source": []
  }
 ],
 "metadata": {
  "kernelspec": {
   "display_name": "Julia 1.7.2",
   "language": "julia",
   "name": "julia-1.7"
  },
  "language_info": {
   "file_extension": ".jl",
   "mimetype": "application/julia",
   "name": "julia",
   "version": "1.7.2"
  }
 },
 "nbformat": 4,
 "nbformat_minor": 5
}
