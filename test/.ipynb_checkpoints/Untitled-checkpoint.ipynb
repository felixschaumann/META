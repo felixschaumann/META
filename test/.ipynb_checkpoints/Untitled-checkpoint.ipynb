{
 "cells": [
  {
   "cell_type": "code",
   "execution_count": null,
   "id": "17f73c41",
   "metadata": {},
   "outputs": [],
   "source": [
    "using Test, CSV, Mimi"
   ]
  },
  {
   "cell_type": "code",
   "execution_count": null,
   "id": "61c2b326",
   "metadata": {},
   "outputs": [],
   "source": [
    "include(\"../src/basemodel.jl\")"
   ]
  },
  {
   "cell_type": "code",
   "execution_count": null,
   "id": "b3d27d26",
   "metadata": {},
   "outputs": [],
   "source": [
    "benchmark = CSV.read(\"../data/benchmark/SAF.csv\", DataFrame)"
   ]
  },
  {
   "cell_type": "code",
   "execution_count": null,
   "id": "a3663e84",
   "metadata": {},
   "outputs": [],
   "source": [
    "model = test_model()"
   ]
  },
  {
   "cell_type": "code",
   "execution_count": null,
   "id": "d9e0e4e7",
   "metadata": {},
   "outputs": [],
   "source": [
    "include(\"../src/components/SAF.jl\")"
   ]
  },
  {
   "cell_type": "code",
   "execution_count": null,
   "id": "088cfe42",
   "metadata": {},
   "outputs": [],
   "source": [
    "safmodel = addSAFModel(model, \"Distribution mean\")"
   ]
  },
  {
   "cell_type": "code",
   "execution_count": null,
   "id": "44990f1a",
   "metadata": {},
   "outputs": [],
   "source": [
    "safmodel[:F] = benchmark.\"Forcing\""
   ]
  },
  {
   "cell_type": "code",
   "execution_count": null,
   "id": "4e42a709",
   "metadata": {},
   "outputs": [],
   "source": [
    "run(model)"
   ]
  },
  {
   "cell_type": "code",
   "execution_count": null,
   "id": "fbcb8734",
   "metadata": {},
   "outputs": [],
   "source": [
    "T_AT_adjustment = model[:SAFModel, :T_AT_adjustment]"
   ]
  },
  {
   "cell_type": "code",
   "execution_count": null,
   "id": "09c7bb10",
   "metadata": {},
   "outputs": [],
   "source": [
    "T_AT_adjustment_compare = benchmark.\"Temp Correction\""
   ]
  },
  {
   "cell_type": "code",
   "execution_count": null,
   "id": "f6337426",
   "metadata": {},
   "outputs": [],
   "source": [
    "@test T_AT_adjustment ≈ T_AT_adjustment_compare rtol=1e-4"
   ]
  },
  {
   "cell_type": "code",
   "execution_count": null,
   "id": "1d0987d0",
   "metadata": {},
   "outputs": [],
   "source": []
  }
 ],
 "metadata": {
  "kernelspec": {
   "display_name": "Julia 1.7.1",
   "language": "julia",
   "name": "julia-1.7"
  },
  "language_info": {
   "file_extension": ".jl",
   "mimetype": "application/julia",
   "name": "julia",
   "version": "1.7.1"
  }
 },
 "nbformat": 4,
 "nbformat_minor": 5
}
