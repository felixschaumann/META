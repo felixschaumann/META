{
 "cells": [
  {
   "cell_type": "code",
   "execution_count": 12,
   "metadata": {},
   "outputs": [],
   "source": [
    "using Test, CSV, Mimi, Random, Distributions"
   ]
  },
  {
   "cell_type": "code",
   "execution_count": 13,
   "metadata": {},
   "outputs": [
    {
     "data": {
      "text/plain": [
       "test_model (generic function with 1 method)"
      ]
     },
     "execution_count": 13,
     "metadata": {},
     "output_type": "execute_result"
    }
   ],
   "source": [
    "include(\"../src/basemodel.jl\")"
   ]
  },
  {
   "cell_type": "code",
   "execution_count": 14,
   "metadata": {},
   "outputs": [
    {
     "data": {
      "text/html": [
       "<div class=\"data-frame\"><p>191 rows × 5 columns</p><table class=\"data-frame\"><thead><tr><th></th><th>Year</th><th>Concentration</th><th>f(M,N_2010)</th><th>Forcing (W/m2)</th><th>Note: RCP8.5</th></tr><tr><th></th><th title=\"Int64\">Int64</th><th title=\"Float64\">Float64</th><th title=\"Float64\">Float64</th><th title=\"Float64\">Float64</th><th title=\"Missing\">Missing</th></tr></thead><tbody><tr><th>1</th><td>2010</td><td>1778.67</td><td>0.166416</td><td>0.475618</td><td><em>missing</em></td></tr><tr><th>2</th><td>2011</td><td>1818.42</td><td>0.168824</td><td>0.49008</td><td><em>missing</em></td></tr><tr><th>3</th><td>2012</td><td>1857.54</td><td>0.171173</td><td>0.504155</td><td><em>missing</em></td></tr><tr><th>4</th><td>2013</td><td>1896.08</td><td>0.173467</td><td>0.517875</td><td><em>missing</em></td></tr><tr><th>5</th><td>2014</td><td>1934.09</td><td>0.175712</td><td>0.531266</td><td><em>missing</em></td></tr><tr><th>6</th><td>2015</td><td>1971.62</td><td>0.17791</td><td>0.544352</td><td><em>missing</em></td></tr><tr><th>7</th><td>2016</td><td>2008.7</td><td>0.180065</td><td>0.557157</td><td><em>missing</em></td></tr><tr><th>8</th><td>2017</td><td>2045.36</td><td>0.182181</td><td>0.5697</td><td><em>missing</em></td></tr><tr><th>9</th><td>2018</td><td>2081.65</td><td>0.184259</td><td>0.582001</td><td><em>missing</em></td></tr><tr><th>10</th><td>2019</td><td>2117.58</td><td>0.186303</td><td>0.594074</td><td><em>missing</em></td></tr><tr><th>11</th><td>2020</td><td>2153.2</td><td>0.188315</td><td>0.605937</td><td><em>missing</em></td></tr><tr><th>12</th><td>2021</td><td>2188.53</td><td>0.190296</td><td>0.617601</td><td><em>missing</em></td></tr><tr><th>13</th><td>2022</td><td>2223.34</td><td>0.192237</td><td>0.629005</td><td><em>missing</em></td></tr><tr><th>14</th><td>2023</td><td>2257.7</td><td>0.19414</td><td>0.640166</td><td><em>missing</em></td></tr><tr><th>15</th><td>2024</td><td>2291.62</td><td>0.196008</td><td>0.651102</td><td><em>missing</em></td></tr><tr><th>16</th><td>2025</td><td>2325.16</td><td>0.197843</td><td>0.66183</td><td><em>missing</em></td></tr><tr><th>17</th><td>2026</td><td>2358.33</td><td>0.199647</td><td>0.672365</td><td><em>missing</em></td></tr><tr><th>18</th><td>2027</td><td>2391.17</td><td>0.201424</td><td>0.682719</td><td><em>missing</em></td></tr><tr><th>19</th><td>2028</td><td>2423.71</td><td>0.203174</td><td>0.692904</td><td><em>missing</em></td></tr><tr><th>20</th><td>2029</td><td>2455.96</td><td>0.2049</td><td>0.702932</td><td><em>missing</em></td></tr><tr><th>21</th><td>2030</td><td>2487.96</td><td>0.206603</td><td>0.712813</td><td><em>missing</em></td></tr><tr><th>22</th><td>2031</td><td>2519.72</td><td>0.208285</td><td>0.722556</td><td><em>missing</em></td></tr><tr><th>23</th><td>2032</td><td>2552.27</td><td>0.21</td><td>0.732476</td><td><em>missing</em></td></tr><tr><th>24</th><td>2033</td><td>2585.54</td><td>0.211744</td><td>0.74255</td><td><em>missing</em></td></tr><tr><th>25</th><td>2034</td><td>2619.49</td><td>0.213513</td><td>0.752757</td><td><em>missing</em></td></tr><tr><th>26</th><td>2035</td><td>2654.05</td><td>0.215306</td><td>0.76308</td><td><em>missing</em></td></tr><tr><th>27</th><td>2036</td><td>2689.17</td><td>0.217118</td><td>0.773499</td><td><em>missing</em></td></tr><tr><th>28</th><td>2037</td><td>2724.82</td><td>0.218947</td><td>0.784002</td><td><em>missing</em></td></tr><tr><th>29</th><td>2038</td><td>2760.94</td><td>0.220791</td><td>0.794572</td><td><em>missing</em></td></tr><tr><th>30</th><td>2039</td><td>2797.5</td><td>0.222648</td><td>0.805198</td><td><em>missing</em></td></tr><tr><th>&vellip;</th><td>&vellip;</td><td>&vellip;</td><td>&vellip;</td><td>&vellip;</td><td>&vellip;</td></tr></tbody></table></div>"
      ],
      "text/latex": [
       "\\begin{tabular}{r|ccccc}\n",
       "\t& Year & Concentration & f(M,N\\_2010) & Forcing (W/m2) & Note: RCP8.5\\\\\n",
       "\t\\hline\n",
       "\t& Int64 & Float64 & Float64 & Float64 & Missing\\\\\n",
       "\t\\hline\n",
       "\t1 & 2010 & 1778.67 & 0.166416 & 0.475618 & \\emph{missing} \\\\\n",
       "\t2 & 2011 & 1818.42 & 0.168824 & 0.49008 & \\emph{missing} \\\\\n",
       "\t3 & 2012 & 1857.54 & 0.171173 & 0.504155 & \\emph{missing} \\\\\n",
       "\t4 & 2013 & 1896.08 & 0.173467 & 0.517875 & \\emph{missing} \\\\\n",
       "\t5 & 2014 & 1934.09 & 0.175712 & 0.531266 & \\emph{missing} \\\\\n",
       "\t6 & 2015 & 1971.62 & 0.17791 & 0.544352 & \\emph{missing} \\\\\n",
       "\t7 & 2016 & 2008.7 & 0.180065 & 0.557157 & \\emph{missing} \\\\\n",
       "\t8 & 2017 & 2045.36 & 0.182181 & 0.5697 & \\emph{missing} \\\\\n",
       "\t9 & 2018 & 2081.65 & 0.184259 & 0.582001 & \\emph{missing} \\\\\n",
       "\t10 & 2019 & 2117.58 & 0.186303 & 0.594074 & \\emph{missing} \\\\\n",
       "\t11 & 2020 & 2153.2 & 0.188315 & 0.605937 & \\emph{missing} \\\\\n",
       "\t12 & 2021 & 2188.53 & 0.190296 & 0.617601 & \\emph{missing} \\\\\n",
       "\t13 & 2022 & 2223.34 & 0.192237 & 0.629005 & \\emph{missing} \\\\\n",
       "\t14 & 2023 & 2257.7 & 0.19414 & 0.640166 & \\emph{missing} \\\\\n",
       "\t15 & 2024 & 2291.62 & 0.196008 & 0.651102 & \\emph{missing} \\\\\n",
       "\t16 & 2025 & 2325.16 & 0.197843 & 0.66183 & \\emph{missing} \\\\\n",
       "\t17 & 2026 & 2358.33 & 0.199647 & 0.672365 & \\emph{missing} \\\\\n",
       "\t18 & 2027 & 2391.17 & 0.201424 & 0.682719 & \\emph{missing} \\\\\n",
       "\t19 & 2028 & 2423.71 & 0.203174 & 0.692904 & \\emph{missing} \\\\\n",
       "\t20 & 2029 & 2455.96 & 0.2049 & 0.702932 & \\emph{missing} \\\\\n",
       "\t21 & 2030 & 2487.96 & 0.206603 & 0.712813 & \\emph{missing} \\\\\n",
       "\t22 & 2031 & 2519.72 & 0.208285 & 0.722556 & \\emph{missing} \\\\\n",
       "\t23 & 2032 & 2552.27 & 0.21 & 0.732476 & \\emph{missing} \\\\\n",
       "\t24 & 2033 & 2585.54 & 0.211744 & 0.74255 & \\emph{missing} \\\\\n",
       "\t25 & 2034 & 2619.49 & 0.213513 & 0.752757 & \\emph{missing} \\\\\n",
       "\t26 & 2035 & 2654.05 & 0.215306 & 0.76308 & \\emph{missing} \\\\\n",
       "\t27 & 2036 & 2689.17 & 0.217118 & 0.773499 & \\emph{missing} \\\\\n",
       "\t28 & 2037 & 2724.82 & 0.218947 & 0.784002 & \\emph{missing} \\\\\n",
       "\t29 & 2038 & 2760.94 & 0.220791 & 0.794572 & \\emph{missing} \\\\\n",
       "\t30 & 2039 & 2797.5 & 0.222648 & 0.805198 & \\emph{missing} \\\\\n",
       "\t$\\dots$ & $\\dots$ & $\\dots$ & $\\dots$ & $\\dots$ & $\\dots$ \\\\\n",
       "\\end{tabular}\n"
      ],
      "text/plain": [
       "\u001b[1m191×5 DataFrame\u001b[0m\n",
       "\u001b[1m Row \u001b[0m│\u001b[1m Year  \u001b[0m\u001b[1m Concentration \u001b[0m\u001b[1m f(M,N_2010) \u001b[0m\u001b[1m Forcing (W/m2) \u001b[0m\u001b[1m Note: RCP8.5 \u001b[0m\n",
       "\u001b[1m     \u001b[0m│\u001b[90m Int64 \u001b[0m\u001b[90m Float64       \u001b[0m\u001b[90m Float64     \u001b[0m\u001b[90m Float64        \u001b[0m\u001b[90m Missing      \u001b[0m\n",
       "─────┼─────────────────────────────────────────────────────────────────\n",
       "   1 │  2010        1778.67     0.166416        0.475618 \u001b[90m      missing \u001b[0m\n",
       "   2 │  2011        1818.42     0.168824        0.49008  \u001b[90m      missing \u001b[0m\n",
       "   3 │  2012        1857.54     0.171173        0.504155 \u001b[90m      missing \u001b[0m\n",
       "   4 │  2013        1896.08     0.173467        0.517875 \u001b[90m      missing \u001b[0m\n",
       "   5 │  2014        1934.09     0.175712        0.531266 \u001b[90m      missing \u001b[0m\n",
       "   6 │  2015        1971.62     0.17791         0.544352 \u001b[90m      missing \u001b[0m\n",
       "   7 │  2016        2008.7      0.180065        0.557157 \u001b[90m      missing \u001b[0m\n",
       "   8 │  2017        2045.36     0.182181        0.5697   \u001b[90m      missing \u001b[0m\n",
       "   9 │  2018        2081.65     0.184259        0.582001 \u001b[90m      missing \u001b[0m\n",
       "  10 │  2019        2117.58     0.186303        0.594074 \u001b[90m      missing \u001b[0m\n",
       "  11 │  2020        2153.2      0.188315        0.605937 \u001b[90m      missing \u001b[0m\n",
       "  ⋮  │   ⋮          ⋮             ⋮             ⋮              ⋮\n",
       " 182 │  2191        4702.98     0.309524        1.28305  \u001b[90m      missing \u001b[0m\n",
       " 183 │  2192        4703.73     0.309555        1.28322  \u001b[90m      missing \u001b[0m\n",
       " 184 │  2193        4704.47     0.309586        1.28338  \u001b[90m      missing \u001b[0m\n",
       " 185 │  2194        4705.21     0.309617        1.28354  \u001b[90m      missing \u001b[0m\n",
       " 186 │  2195        4705.96     0.309649        1.28371  \u001b[90m      missing \u001b[0m\n",
       " 187 │  2196        4706.71     0.30968         1.28387  \u001b[90m      missing \u001b[0m\n",
       " 188 │  2197        4707.45     0.309711        1.28404  \u001b[90m      missing \u001b[0m\n",
       " 189 │  2198        4708.2      0.309742        1.2842   \u001b[90m      missing \u001b[0m\n",
       " 190 │  2199        4708.95     0.309774        1.28437  \u001b[90m      missing \u001b[0m\n",
       " 191 │  2200        4709.7      0.309805        1.28453  \u001b[90m      missing \u001b[0m\n",
       "\u001b[36m                                                       170 rows omitted\u001b[0m"
      ]
     },
     "execution_count": 14,
     "metadata": {},
     "output_type": "execute_result"
    }
   ],
   "source": [
    "benchmark = CSV.read(\"../data/benchmark/CH4Model.csv\", DataFrame)"
   ]
  },
  {
   "cell_type": "code",
   "execution_count": 15,
   "metadata": {},
   "outputs": [
    {
     "data": {
      "text/plain": [
       "Mimi.Model\n",
       "  Module: Mimi\n",
       "  Components:\n",
       "  Built: false\n"
      ]
     },
     "execution_count": 15,
     "metadata": {},
     "output_type": "execute_result"
    }
   ],
   "source": [
    "model = test_model()"
   ]
  },
  {
   "cell_type": "code",
   "execution_count": 16,
   "metadata": {},
   "outputs": [
    {
     "data": {
      "text/plain": [
       "addRCP (generic function with 1 method)"
      ]
     },
     "execution_count": 16,
     "metadata": {},
     "output_type": "execute_result"
    }
   ],
   "source": [
    "include(\"../src/components/RCP.jl\")"
   ]
  },
  {
   "cell_type": "code",
   "execution_count": 17,
   "metadata": {},
   "outputs": [
    {
     "data": {
      "text/plain": [
       "addCH4Model (generic function with 1 method)"
      ]
     },
     "execution_count": 17,
     "metadata": {},
     "output_type": "execute_result"
    }
   ],
   "source": [
    "include(\"../src/components/CH4Model.jl\")"
   ]
  },
  {
   "cell_type": "code",
   "execution_count": 18,
   "metadata": {},
   "outputs": [
    {
     "data": {
      "text/plain": [
       "Mimi.ComponentReference\n",
       "  parent: ModelDef id:10405861145893299419\n",
       "    parent: Nothing(:nothing:)\n",
       "    name: Symbol(\"##ModelDef#304\")\n",
       "    comp_id: ComponentId(Mimi.##ModelDef#304)\n",
       "    comp_path: ComponentPath(Symbol(\"##ModelDef#304\"),)\n",
       "    dim_dict: OrderedCollections.OrderedDict{Symbol, Union{Nothing, Mimi.Dimension}}\n",
       "      time => [2010, 2011, 2012, 2013, 2014, 2015, 2016, 2017, 2018, 2019  …  2191, 2192, 2193, 2194, 2195, 2196, 2197, 2198, 2199, 2200]\n",
       "      country => String3[\"AFG\", \"AGO\", \"ALB\", \"AND\", \"ARE\", \"ARG\", \"ARM\", \"ATG\", \"AUS\", \"AUT\"  …  \"USA\", \"UZB\", \"VEN\", \"VNM\", \"VUT\", \"WSM\", \"YEM\", \"ZAF\", \"ZMB\", \"ZWE\"]\n",
       "      region => SubString{String15}[\"ASIA\", \"LAM\", \"MAF\", \"OECD\", \"REF\"]\n",
       "      monsoonsteps => [1, 2, 3, 4, 5, 6, 7, 8, 9, 10  …  26, 27, 28, 29, 30, 31, 32, 33, 34, 35]\n",
       "    first: 2010\n",
       "    last: 2200\n",
       "    is_uniform: true\n",
       "    internal_param_conns: \n",
       "    backups: Vector{Symbol}\n",
       "    external_param_conns: \n",
       "      1: Mimi.ExternalParameterConnection\n",
       "        comp_path: ComponentPath(Symbol(\"##ModelDef#304\"), :RCP)\n",
       "        param_name: :scenario\n",
       "        model_param_name: :RCP_scenario\n",
       "    model_params: Dict{Symbol, Mimi.ModelParameter}\n",
       "      RCP_scenario => Mimi.ScalarModelParameter{String}\n",
       "        value: \"RCP8.5\"\n",
       "        is_shared: true\n",
       "    number_type: Float64\n",
       "    dirty: true\n",
       "    namespace:\n",
       "      RCP: Mimi.ComponentDef\n",
       "  comp_path: ComponentPath(Symbol(\"##ModelDef#304\"), :RCP)"
      ]
     },
     "execution_count": 18,
     "metadata": {},
     "output_type": "execute_result"
    }
   ],
   "source": [
    "RCPmodel = addRCP(model, \"RCP8.5\")"
   ]
  },
  {
   "cell_type": "code",
   "execution_count": 19,
   "metadata": {},
   "outputs": [
    {
     "data": {
      "text/plain": [
       "Mimi.ComponentReference\n",
       "  parent: ModelDef id:10405861145893299419\n",
       "    parent: Nothing(:nothing:)\n",
       "    name: Symbol(\"##ModelDef#304\")\n",
       "    comp_id: ComponentId(Mimi.##ModelDef#304)\n",
       "    comp_path: ComponentPath(Symbol(\"##ModelDef#304\"),)\n",
       "    dim_dict: OrderedCollections.OrderedDict{Symbol, Union{Nothing, Mimi.Dimension}}\n",
       "      time => [2010, 2011, 2012, 2013, 2014, 2015, 2016, 2017, 2018, 2019  …  2191, 2192, 2193, 2194, 2195, 2196, 2197, 2198, 2199, 2200]\n",
       "      country => String3[\"AFG\", \"AGO\", \"ALB\", \"AND\", \"ARE\", \"ARG\", \"ARM\", \"ATG\", \"AUS\", \"AUT\"  …  \"USA\", \"UZB\", \"VEN\", \"VNM\", \"VUT\", \"WSM\", \"YEM\", \"ZAF\", \"ZMB\", \"ZWE\"]\n",
       "      region => SubString{String15}[\"ASIA\", \"LAM\", \"MAF\", \"OECD\", \"REF\"]\n",
       "      monsoonsteps => [1, 2, 3, 4, 5, 6, 7, 8, 9, 10  …  26, 27, 28, 29, 30, 31, 32, 33, 34, 35]\n",
       "    first: 2010\n",
       "    last: 2200\n",
       "    is_uniform: true\n",
       "    internal_param_conns: \n",
       "    backups: Vector{Symbol}\n",
       "    external_param_conns: \n",
       "      1: Mimi.ExternalParameterConnection\n",
       "        comp_path: ComponentPath(Symbol(\"##ModelDef#304\"), :RCP)\n",
       "        param_name: :scenario\n",
       "        model_param_name: :RCP_scenario\n",
       "      2: Mimi.ExternalParameterConnection\n",
       "        comp_path: ComponentPath(Symbol(\"##ModelDef#304\"), :CH4Model)\n",
       "        param_name: :ch4_rcp\n",
       "        model_param_name: Symbol(\"##306\")\n",
       "      3: Mimi.ExternalParameterConnection\n",
       "        comp_path: ComponentPath(Symbol(\"##ModelDef#304\"), :CH4Model)\n",
       "        param_name: :ch4_conc_rcp\n",
       "        model_param_name: Symbol(\"##309\")\n",
       "      4: Mimi.ExternalParameterConnection\n",
       "        comp_path: ComponentPath(Symbol(\"##ModelDef#304\"), :CH4Model)\n",
       "        param_name: :n2o_conc_rcp\n",
       "        model_param_name: Symbol(\"##310\")\n",
       "      5: Mimi.ExternalParameterConnection\n",
       "        comp_path: ComponentPath(Symbol(\"##ModelDef#304\"), :CH4Model)\n",
       "        param_name: :alpha\n",
       "        model_param_name: Symbol(\"##311\")\n",
       "      6: Mimi.ExternalParameterConnection\n",
       "        comp_path: ComponentPath(Symbol(\"##ModelDef#304\"), :CH4Model)\n",
       "        param_name: :fMN_parameter1\n",
       "        model_param_name: Symbol(\"##312\")\n",
       "      7: Mimi.ExternalParameterConnection\n",
       "        comp_path: ComponentPath(Symbol(\"##ModelDef#304\"), :CH4Model)\n",
       "        param_name: :fMN_parameter2\n",
       "        model_param_name: Symbol(\"##313\")\n",
       "      8: Mimi.ExternalParameterConnection\n",
       "        comp_path: ComponentPath(Symbol(\"##ModelDef#304\"), :CH4Model)\n",
       "        param_name: :decay_rate\n",
       "        model_param_name: Symbol(\"##314\")\n",
       "      9: Mimi.ExternalParameterConnection\n",
       "        comp_path: ComponentPath(Symbol(\"##ModelDef#304\"), :CH4Model)\n",
       "        param_name: :conversion_ppb_Mt\n",
       "        model_param_name: Symbol(\"##315\")\n",
       "      10: Mimi.ExternalParameterConnection\n",
       "        comp_path: ComponentPath(Symbol(\"##ModelDef#304\"), :CH4Model)\n",
       "        param_name: :CH4_conc_preindustrial\n",
       "        model_param_name: Symbol(\"##316\")\n",
       "      11: Mimi.ExternalParameterConnection\n",
       "        comp_path: ComponentPath(Symbol(\"##ModelDef#304\"), :CH4Model)\n",
       "        param_name: :ch4_pcf\n",
       "        model_param_name: :CH4Model_ch4_pcf\n",
       "      12: Mimi.ExternalParameterConnection\n",
       "        comp_path: ComponentPath(Symbol(\"##ModelDef#304\"), :CH4Model)\n",
       "        param_name: :ch4_omh\n",
       "        model_param_name: :CH4Model_ch4_omh\n",
       "    model_params: Dict{Symbol, Mimi.ModelParameter}\n",
       "      ##309 => Mimi.ArrayModelParameter{Nothing}\n",
       "        values: nothing\n",
       "        dim_names: Vector{Symbol}\n",
       "        1: time\n",
       "        is_shared: false\n",
       "      ##313 => Mimi.ScalarModelParameter{Float64}\n",
       "        value: 5.31e-15\n",
       "        is_shared: false\n",
       "      RCP_scenario => Mimi.ScalarModelParameter{String}\n",
       "        value: \"RCP8.5\"\n",
       "        is_shared: true\n",
       "      ##315 => Mimi.ScalarModelParameter{Float64}\n",
       "        value: 2.78\n",
       "        is_shared: false\n",
       "      CH4Model_ch4_omh => Mimi.ArrayModelParameter{Mimi.TimestepArray{Mimi.FixedTimestep{2010, 1, 2200}, Union{Missing, Float64}, 1, 1, Vector{Union{Missing, Float64}}}}\n",
       "        values: Mimi.TimestepArray{Mimi.FixedTimestep{2010, 1, 2200}, Union{Missing, Float64}, 1, 1, Vector{Union{Missing, Float64}}}\n",
       "          data: Vector{Union{Missing, Float64}}\n",
       "          1: 0.0\n",
       "          2: 0.0\n",
       "          3: 0.0\n",
       "          4: 0.0\n",
       "          ...\n",
       "          191: 0.0\n",
       "        dim_names: Vector{Symbol}\n",
       "        1: time\n",
       "        is_shared: true\n",
       "      ##316 => Mimi.ScalarModelParameter{Float64}\n",
       "        value: 722.0\n",
       "        is_shared: false\n",
       "      ##306 => Mimi.ArrayModelParameter{Nothing}\n",
       "        values: nothing\n",
       "        dim_names: Vector{Symbol}\n",
       "        1: time\n",
       "        is_shared: false\n",
       "      ##311 => Mimi.ScalarModelParameter{Float64}\n",
       "        value: 0.036\n",
       "        is_shared: false\n",
       "      ##314 => Mimi.ScalarModelParameter{Float64}\n",
       "        value: 0.08064516129032258\n",
       "        is_shared: false\n",
       "      CH4Model_ch4_pcf => Mimi.ArrayModelParameter{Mimi.TimestepArray{Mimi.FixedTimestep{2010, 1, 2200}, Union{Missing, Float64}, 1, 1, Vector{Union{Missing, Float64}}}}\n",
       "        values: Mimi.TimestepArray{Mimi.FixedTimestep{2010, 1, 2200}, Union{Missing, Float64}, 1, 1, Vector{Union{Missing, Float64}}}\n",
       "          data: Vector{Union{Missing, Float64}}\n",
       "          1: 0.0\n",
       "          2: 0.0\n",
       "          3: 0.0\n",
       "          4: 0.0\n",
       "          ...\n",
       "          191: 0.0\n",
       "        dim_names: Vector{Symbol}\n",
       "        1: time\n",
       "        is_shared: true\n",
       "      ##312 => Mimi.ScalarModelParameter{Float64}\n",
       "        value: 2.01e-5\n",
       "        is_shared: false\n",
       "      ##310 => Mimi.ArrayModelParameter{Nothing}\n",
       "        values: nothing\n",
       "        dim_names: Vector{Symbol}\n",
       "        1: time\n",
       "        is_shared: false\n",
       "    number_type: Float64\n",
       "    dirty: true\n",
       "    namespace:\n",
       "      RCP: Mimi.ComponentDef\n",
       "      CH4Model: Mimi.ComponentDef\n",
       "  comp_path: ComponentPath(Symbol(\"##ModelDef#304\"), :CH4Model)"
      ]
     },
     "execution_count": 19,
     "metadata": {},
     "output_type": "execute_result"
    }
   ],
   "source": [
    "CH4model = addCH4Model(model, \"Value\")"
   ]
  },
  {
   "cell_type": "code",
   "execution_count": 20,
   "metadata": {},
   "outputs": [
    {
     "data": {
      "text/plain": [
       "Mimi.VariableReference\n",
       "  parent: ModelDef id:10405861145893299419\n",
       "    parent: Nothing(:nothing:)\n",
       "    name: Symbol(\"##ModelDef#304\")\n",
       "    comp_id: ComponentId(Mimi.##ModelDef#304)\n",
       "    comp_path: ComponentPath(Symbol(\"##ModelDef#304\"),)\n",
       "    dim_dict: OrderedCollections.OrderedDict{Symbol, Union{Nothing, Mimi.Dimension}}\n",
       "      time => [2010, 2011, 2012, 2013, 2014, 2015, 2016, 2017, 2018, 2019  …  2191, 2192, 2193, 2194, 2195, 2196, 2197, 2198, 2199, 2200]\n",
       "      country => String3[\"AFG\", \"AGO\", \"ALB\", \"AND\", \"ARE\", \"ARG\", \"ARM\", \"ATG\", \"AUS\", \"AUT\"  …  \"USA\", \"UZB\", \"VEN\", \"VNM\", \"VUT\", \"WSM\", \"YEM\", \"ZAF\", \"ZMB\", \"ZWE\"]\n",
       "      region => SubString{String15}[\"ASIA\", \"LAM\", \"MAF\", \"OECD\", \"REF\"]\n",
       "      monsoonsteps => [1, 2, 3, 4, 5, 6, 7, 8, 9, 10  …  26, 27, 28, 29, 30, 31, 32, 33, 34, 35]\n",
       "    first: 2010\n",
       "    last: 2200\n",
       "    is_uniform: true\n",
       "    internal_param_conns: \n",
       "      1: Mimi.InternalParameterConnection\n",
       "        src_comp_path: ComponentPath(Symbol(\"##ModelDef#304\"), :RCP)\n",
       "        src_var_name: :ch4_rcp\n",
       "        dst_comp_path: ComponentPath(Symbol(\"##ModelDef#304\"), :CH4Model)\n",
       "        dst_par_name: :ch4_rcp\n",
       "        ignoreunits: false\n",
       "        backup: nothing\n",
       "        backup_offset: nothing\n",
       "      2: Mimi.InternalParameterConnection\n",
       "        src_comp_path: ComponentPath(Symbol(\"##ModelDef#304\"), :RCP)\n",
       "        src_var_name: :ch4_conc_rcp\n",
       "        dst_comp_path: ComponentPath(Symbol(\"##ModelDef#304\"), :CH4Model)\n",
       "        dst_par_name: :ch4_conc_rcp\n",
       "        ignoreunits: false\n",
       "        backup: nothing\n",
       "        backup_offset: nothing\n",
       "      3: Mimi.InternalParameterConnection\n",
       "        src_comp_path: ComponentPath(Symbol(\"##ModelDef#304\"), :RCP)\n",
       "        src_var_name: :n2o_conc_rcp\n",
       "        dst_comp_path: ComponentPath(Symbol(\"##ModelDef#304\"), :CH4Model)\n",
       "        dst_par_name: :n2o_conc_rcp\n",
       "        ignoreunits: false\n",
       "        backup: nothing\n",
       "        backup_offset: nothing\n",
       "    backups: Vector{Symbol}\n",
       "    external_param_conns: \n",
       "      1: Mimi.ExternalParameterConnection\n",
       "        comp_path: ComponentPath(Symbol(\"##ModelDef#304\"), :RCP)\n",
       "        param_name: :scenario\n",
       "        model_param_name: :RCP_scenario\n",
       "      2: Mimi.ExternalParameterConnection\n",
       "        comp_path: ComponentPath(Symbol(\"##ModelDef#304\"), :CH4Model)\n",
       "        param_name: :alpha\n",
       "        model_param_name: Symbol(\"##311\")\n",
       "      3: Mimi.ExternalParameterConnection\n",
       "        comp_path: ComponentPath(Symbol(\"##ModelDef#304\"), :CH4Model)\n",
       "        param_name: :fMN_parameter1\n",
       "        model_param_name: Symbol(\"##312\")\n",
       "      4: Mimi.ExternalParameterConnection\n",
       "        comp_path: ComponentPath(Symbol(\"##ModelDef#304\"), :CH4Model)\n",
       "        param_name: :fMN_parameter2\n",
       "        model_param_name: Symbol(\"##313\")\n",
       "      5: Mimi.ExternalParameterConnection\n",
       "        comp_path: ComponentPath(Symbol(\"##ModelDef#304\"), :CH4Model)\n",
       "        param_name: :decay_rate\n",
       "        model_param_name: Symbol(\"##314\")\n",
       "      6: Mimi.ExternalParameterConnection\n",
       "        comp_path: ComponentPath(Symbol(\"##ModelDef#304\"), :CH4Model)\n",
       "        param_name: :conversion_ppb_Mt\n",
       "        model_param_name: Symbol(\"##315\")\n",
       "      7: Mimi.ExternalParameterConnection\n",
       "        comp_path: ComponentPath(Symbol(\"##ModelDef#304\"), :CH4Model)\n",
       "        param_name: :CH4_conc_preindustrial\n",
       "        model_param_name: Symbol(\"##316\")\n",
       "      8: Mimi.ExternalParameterConnection\n",
       "        comp_path: ComponentPath(Symbol(\"##ModelDef#304\"), :CH4Model)\n",
       "        param_name: :ch4_pcf\n",
       "        model_param_name: :CH4Model_ch4_pcf\n",
       "      9: Mimi.ExternalParameterConnection\n",
       "        comp_path: ComponentPath(Symbol(\"##ModelDef#304\"), :CH4Model)\n",
       "        param_name: :ch4_omh\n",
       "        model_param_name: :CH4Model_ch4_omh\n",
       "    model_params: Dict{Symbol, Mimi.ModelParameter}\n",
       "      ##313 => Mimi.ScalarModelParameter{Float64}\n",
       "        value: 5.31e-15\n",
       "        is_shared: false\n",
       "      RCP_scenario => Mimi.ScalarModelParameter{String}\n",
       "        value: \"RCP8.5\"\n",
       "        is_shared: true\n",
       "      ##315 => Mimi.ScalarModelParameter{Float64}\n",
       "        value: 2.78\n",
       "        is_shared: false\n",
       "      CH4Model_ch4_omh => Mimi.ArrayModelParameter{Mimi.TimestepArray{Mimi.FixedTimestep{2010, 1, 2200}, Union{Missing, Float64}, 1, 1, Vector{Union{Missing, Float64}}}}\n",
       "        values: Mimi.TimestepArray{Mimi.FixedTimestep{2010, 1, 2200}, Union{Missing, Float64}, 1, 1, Vector{Union{Missing, Float64}}}\n",
       "          data: Vector{Union{Missing, Float64}}\n",
       "          1: 0.0\n",
       "          2: 0.0\n",
       "          3: 0.0\n",
       "          4: 0.0\n",
       "          ...\n",
       "          191: 0.0\n",
       "        dim_names: Vector{Symbol}\n",
       "        1: time\n",
       "        is_shared: true\n",
       "      ##316 => Mimi.ScalarModelParameter{Float64}\n",
       "        value: 722.0\n",
       "        is_shared: false\n",
       "      ##311 => Mimi.ScalarModelParameter{Float64}\n",
       "        value: 0.036\n",
       "        is_shared: false\n",
       "      ##314 => Mimi.ScalarModelParameter{Float64}\n",
       "        value: 0.08064516129032258\n",
       "        is_shared: false\n",
       "      CH4Model_ch4_pcf => Mimi.ArrayModelParameter{Mimi.TimestepArray{Mimi.FixedTimestep{2010, 1, 2200}, Union{Missing, Float64}, 1, 1, Vector{Union{Missing, Float64}}}}\n",
       "        values: Mimi.TimestepArray{Mimi.FixedTimestep{2010, 1, 2200}, Union{Missing, Float64}, 1, 1, Vector{Union{Missing, Float64}}}\n",
       "          data: Vector{Union{Missing, Float64}}\n",
       "          1: 0.0\n",
       "          2: 0.0\n",
       "          3: 0.0\n",
       "          4: 0.0\n",
       "          ...\n",
       "          191: 0.0\n",
       "        dim_names: Vector{Symbol}\n",
       "        1: time\n",
       "        is_shared: true\n",
       "      ##312 => Mimi.ScalarModelParameter{Float64}\n",
       "        value: 2.01e-5\n",
       "        is_shared: false\n",
       "    number_type: Float64\n",
       "    dirty: true\n",
       "    namespace:\n",
       "      RCP: Mimi.ComponentDef\n",
       "      CH4Model: Mimi.ComponentDef\n",
       "  comp_path: ComponentPath(Symbol(\"##ModelDef#304\"), :RCP)\n",
       "  var_name: :n2o_conc_rcp"
      ]
     },
     "execution_count": 20,
     "metadata": {},
     "output_type": "execute_result"
    }
   ],
   "source": [
    "CH4model[:ch4_rcp] = RCPmodel[:ch4_rcp]\n",
    "CH4model[:ch4_conc_rcp] = RCPmodel[:ch4_conc_rcp]\n",
    "CH4model[:n2o_conc_rcp] = RCPmodel[:n2o_conc_rcp]"
   ]
  },
  {
   "cell_type": "code",
   "execution_count": 21,
   "metadata": {},
   "outputs": [],
   "source": [
    "run(model)"
   ]
  },
  {
   "cell_type": "code",
   "execution_count": 27,
   "metadata": {},
   "outputs": [
    {
     "data": {
      "text/plain": [
       "191-element Vector{Union{Missing, Float64}}:\n",
       " 1778.6749\n",
       " 1818.4208729055465\n",
       " 1857.5396764946213\n",
       " 1896.0818889379073\n",
       " 1934.0940095213552\n",
       " 1971.6187875885005\n",
       " 2008.6955249551738\n",
       " 2045.3603539359297\n",
       " 2081.646492948987\n",
       " 2117.58448150787\n",
       " 2153.202396262109\n",
       " 2188.5260496153037\n",
       " 2223.3442298795603\n",
       "    ⋮\n",
       " 4701.504803889774\n",
       " 4702.243443167636\n",
       " 4702.983773754604\n",
       " 4703.725662851905\n",
       " 4704.468981176102\n",
       " 4705.213613466959\n",
       " 4705.959453759424\n",
       " 4706.7064082311335\n",
       " 4707.454383431803\n",
       " 4708.203297044578\n",
       " 4708.953076988187\n",
       " 4709.703649800116"
      ]
     },
     "execution_count": 27,
     "metadata": {},
     "output_type": "execute_result"
    }
   ],
   "source": [
    "concentration_CH4 = model[:CH4Model, :CH4_concentration]"
   ]
  },
  {
   "cell_type": "code",
   "execution_count": 22,
   "metadata": {},
   "outputs": [
    {
     "data": {
      "text/plain": [
       "191-element Vector{Float64}:\n",
       " 1778.6749\n",
       " 1818.420873\n",
       " 1857.539676\n",
       " 1896.081889\n",
       " 1934.09401\n",
       " 1971.618788\n",
       " 2008.695525\n",
       " 2045.360354\n",
       " 2081.646493\n",
       " 2117.584482\n",
       " 2153.202396\n",
       " 2188.52605\n",
       " 2223.34423\n",
       "    ⋮\n",
       " 4701.504804\n",
       " 4702.243443\n",
       " 4702.983774\n",
       " 4703.725663\n",
       " 4704.468981\n",
       " 4705.213613\n",
       " 4705.959454\n",
       " 4706.706408\n",
       " 4707.454383\n",
       " 4708.203297\n",
       " 4708.953077\n",
       " 4709.70365"
      ]
     },
     "execution_count": 22,
     "metadata": {},
     "output_type": "execute_result"
    }
   ],
   "source": [
    "concentration_CH4_compare = benchmark.\"Concentration\""
   ]
  },
  {
   "cell_type": "code",
   "execution_count": 23,
   "metadata": {},
   "outputs": [
    {
     "data": {
      "text/plain": [
       "191-element Vector{Union{Missing, Float64}}:\n",
       " 0.4756378154542627\n",
       " 0.49009986598409805\n",
       " 0.5041754808095885\n",
       " 0.5178949830700982\n",
       " 0.5312857097547848\n",
       " 0.5443723482388456\n",
       " 0.5571772288983348\n",
       " 0.5697205805374087\n",
       " 0.5820207541566376\n",
       " 0.5940944196320499\n",
       " 0.6059567391058089\n",
       " 0.6176215202687386\n",
       " 0.6290247209983537\n",
       " ⋮\n",
       " 1.2827459238130423\n",
       " 1.2829089059568077\n",
       " 1.2830722475991814\n",
       " 1.283235919353199\n",
       " 1.2833998926170327\n",
       " 1.2835641418914114\n",
       " 1.2837286437355884\n",
       " 1.283893377394472\n",
       " 1.2840583222019495\n",
       " 1.284223459953684\n",
       " 1.2843887747081388\n",
       " 1.2845542502246337"
      ]
     },
     "execution_count": 23,
     "metadata": {},
     "output_type": "execute_result"
    }
   ],
   "source": [
    "forcing_CH4 = model[:CH4Model, :F_CH4]"
   ]
  },
  {
   "cell_type": "code",
   "execution_count": 24,
   "metadata": {},
   "outputs": [
    {
     "data": {
      "text/plain": [
       "191-element Vector{Float64}:\n",
       " 0.475617653\n",
       " 0.490079703\n",
       " 0.504155318\n",
       " 0.51787482\n",
       " 0.531265547\n",
       " 0.544352185\n",
       " 0.557157066\n",
       " 0.569700418\n",
       " 0.582000591\n",
       " 0.594074257\n",
       " 0.605936576\n",
       " 0.617601357\n",
       " 0.629004558\n",
       " ⋮\n",
       " 1.282725761\n",
       " 1.282888743\n",
       " 1.283052085\n",
       " 1.283215757\n",
       " 1.28337973\n",
       " 1.283543979\n",
       " 1.283708481\n",
       " 1.283873215\n",
       " 1.284038159\n",
       " 1.284203297\n",
       " 1.284368612\n",
       " 1.284534087"
      ]
     },
     "execution_count": 24,
     "metadata": {},
     "output_type": "execute_result"
    }
   ],
   "source": [
    "forcing_CH4_compare = benchmark.\"Forcing (W/m2)\""
   ]
  },
  {
   "cell_type": "code",
   "execution_count": 28,
   "metadata": {},
   "outputs": [
    {
     "data": {
      "text/plain": [
       "\u001b[32m\u001b[1mTest Passed\u001b[22m\u001b[39m\n",
       "  Expression: ≈(concentration_CH4, concentration_CH4_compare, rtol = 0.0001)\n",
       "   Evaluated: ≈(Union{Missing, Float64}[1778.6749, 1818.4208729055465, 1857.5396764946213, 1896.0818889379073, 1934.0940095213552, 1971.6187875885005, 2008.6955249551738, 2045.3603539359297, 2081.646492948987, 2117.58448150787  …  4702.983773754604, 4703.725662851905, 4704.468981176102, 4705.213613466959, 4705.959453759424, 4706.7064082311335, 4707.454383431803, 4708.203297044578, 4708.953076988187, 4709.703649800116], [1778.6749, 1818.420873, 1857.539676, 1896.081889, 1934.09401, 1971.618788, 2008.695525, 2045.360354, 2081.646493, 2117.584482  …  4702.983774, 4703.725663, 4704.468981, 4705.213613, 4705.959454, 4706.706408, 4707.454383, 4708.203297, 4708.953077, 4709.70365]; rtol = 0.0001)"
      ]
     },
     "execution_count": 28,
     "metadata": {},
     "output_type": "execute_result"
    }
   ],
   "source": [
    "@test concentration_CH4 ≈ concentration_CH4_compare rtol=1e-4"
   ]
  },
  {
   "cell_type": "code",
   "execution_count": 26,
   "metadata": {},
   "outputs": [
    {
     "data": {
      "text/plain": [
       "\u001b[32m\u001b[1mTest Passed\u001b[22m\u001b[39m\n",
       "  Expression: ≈(forcing_CH4, forcing_CH4_compare, rtol = 0.0001)\n",
       "   Evaluated: ≈(Union{Missing, Float64}[0.4756378154542627, 0.49009986598409805, 0.5041754808095885, 0.5178949830700982, 0.5312857097547848, 0.5443723482388456, 0.5571772288983348, 0.5697205805374087, 0.5820207541566376, 0.5940944196320499  …  1.2830722475991814, 1.283235919353199, 1.2833998926170327, 1.2835641418914114, 1.2837286437355884, 1.283893377394472, 1.2840583222019495, 1.284223459953684, 1.2843887747081388, 1.2845542502246337], [0.475617653, 0.490079703, 0.504155318, 0.51787482, 0.531265547, 0.544352185, 0.557157066, 0.569700418, 0.582000591, 0.594074257  …  1.283052085, 1.283215757, 1.28337973, 1.283543979, 1.283708481, 1.283873215, 1.284038159, 1.284203297, 1.284368612, 1.284534087]; rtol = 0.0001)"
      ]
     },
     "execution_count": 26,
     "metadata": {},
     "output_type": "execute_result"
    }
   ],
   "source": [
    "@test forcing_CH4 ≈ forcing_CH4_compare rtol=1e-4"
   ]
  }
 ],
 "metadata": {
  "kernelspec": {
   "display_name": "Julia 1.7.2",
   "language": "julia",
   "name": "julia-1.7"
  },
  "language_info": {
   "file_extension": ".jl",
   "mimetype": "application/julia",
   "name": "julia",
   "version": "1.7.2"
  }
 },
 "nbformat": 4,
 "nbformat_minor": 5
}
