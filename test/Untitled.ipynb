{
 "cells": [
  {
   "cell_type": "code",
   "execution_count": 1,
   "id": "55c3bab2",
   "metadata": {},
   "outputs": [],
   "source": [
    "using Test, CSV"
   ]
  },
  {
   "cell_type": "code",
   "execution_count": null,
   "id": "6d4943c0",
   "metadata": {},
   "outputs": [],
   "source": [
    "include(\"../src/basemodel.jl\")\n",
    "include(\"../src/components/Consumption.jl\")"
   ]
  },
  {
   "cell_type": "code",
   "execution_count": null,
   "id": "2a6cb71d",
   "metadata": {},
   "outputs": [],
   "source": [
    "benchmark_temp = CSV.read(\"../data/benchmark/AMOC_Temperature-May2022.csv\", DataFrame)"
   ]
  },
  {
   "cell_type": "code",
   "execution_count": null,
   "id": "143be5e8",
   "metadata": {},
   "outputs": [],
   "source": [
    "benchmark_slr = CSV.read(\"../data/benchmark/SLRModel-May2022.csv\", DataFrame)"
   ]
  },
  {
   "cell_type": "code",
   "execution_count": null,
   "id": "630459ed",
   "metadata": {},
   "outputs": [],
   "source": [
    "include(\"../src/components/Consumption.jl\")"
   ]
  },
  {
   "cell_type": "code",
   "execution_count": null,
   "id": "b6ff02aa",
   "metadata": {},
   "outputs": [],
   "source": [
    "model = test_model()"
   ]
  },
  {
   "cell_type": "code",
   "execution_count": null,
   "id": "7c74c3a3",
   "metadata": {},
   "outputs": [],
   "source": [
    "cons = addConsumption(model, \"none\", \"none\", \"SSP2\")"
   ]
  },
  {
   "cell_type": "code",
   "execution_count": null,
   "id": "c5be483b",
   "metadata": {},
   "outputs": [],
   "source": [
    "cons[:T_country] = benchmark_temp[!, 2:end]"
   ]
  },
  {
   "cell_type": "code",
   "execution_count": null,
   "id": "5866bbfd",
   "metadata": {},
   "outputs": [],
   "source": []
  }
 ],
 "metadata": {
  "kernelspec": {
   "display_name": "Julia 1.7.1",
   "language": "julia",
   "name": "julia-1.7"
  },
  "language_info": {
   "file_extension": ".jl",
   "mimetype": "application/julia",
   "name": "julia",
   "version": "1.7.1"
  }
 },
 "nbformat": 4,
 "nbformat_minor": 5
}
