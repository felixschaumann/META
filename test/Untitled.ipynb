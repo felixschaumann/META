{
 "cells": [
  {
   "cell_type": "code",
   "execution_count": 1,
   "id": "55c3bab2",
   "metadata": {},
   "outputs": [],
   "source": [
    "using Test, CSV"
   ]
  },
  {
   "cell_type": "code",
   "execution_count": 2,
   "id": "6d4943c0",
   "metadata": {},
   "outputs": [
    {
     "data": {
      "text/plain": [
       "addConsumption (generic function with 1 method)"
      ]
     },
     "execution_count": 2,
     "metadata": {},
     "output_type": "execute_result"
    }
   ],
   "source": [
    "include(\"../src/basemodel.jl\")\n",
    "include(\"../src/components/Consumption.jl\")"
   ]
  },
  {
   "cell_type": "code",
   "execution_count": 3,
   "id": "2a6cb71d",
   "metadata": {},
   "outputs": [
    {
     "data": {
      "text/html": [
       "<div class=\"data-frame\"><p>191 rows × 195 columns (omitted printing of 186 columns)</p><table class=\"data-frame\"><thead><tr><th></th><th>Column1</th><th>AFG</th><th>AGO</th><th>ALB</th><th>AND</th><th>ARE</th><th>ARG</th><th>ARM</th><th>ATG</th></tr><tr><th></th><th title=\"Int64\">Int64</th><th title=\"Float64\">Float64</th><th title=\"Float64\">Float64</th><th title=\"Float64\">Float64</th><th title=\"Float64\">Float64</th><th title=\"Float64\">Float64</th><th title=\"Float64\">Float64</th><th title=\"Float64\">Float64</th><th title=\"Float64\">Float64</th></tr></thead><tbody><tr><th>1</th><td>2010</td><td>13.3489</td><td>22.5265</td><td>12.8954</td><td>5.128</td><td>27.1407</td><td>17.9162</td><td>9.22579</td><td>26.451</td></tr><tr><th>2</th><td>2011</td><td>13.3948</td><td>22.5549</td><td>12.9316</td><td>5.16535</td><td>27.1716</td><td>17.9387</td><td>9.26875</td><td>26.4664</td></tr><tr><th>3</th><td>2012</td><td>13.435</td><td>22.5809</td><td>12.9635</td><td>5.19756</td><td>27.2001</td><td>17.9593</td><td>9.30607</td><td>26.4814</td></tr><tr><th>4</th><td>2013</td><td>13.4711</td><td>22.605</td><td>12.9923</td><td>5.22623</td><td>27.2267</td><td>17.9784</td><td>9.33946</td><td>26.4963</td></tr><tr><th>5</th><td>2014</td><td>13.5043</td><td>22.6278</td><td>13.0189</td><td>5.25229</td><td>27.2519</td><td>17.9965</td><td>9.36998</td><td>26.5109</td></tr><tr><th>6</th><td>2015</td><td>13.5353</td><td>22.6496</td><td>13.0438</td><td>5.27641</td><td>27.2762</td><td>18.0138</td><td>9.39834</td><td>26.5254</td></tr><tr><th>7</th><td>2016</td><td>13.5646</td><td>22.6707</td><td>13.0674</td><td>5.29904</td><td>27.2997</td><td>18.0305</td><td>9.42507</td><td>26.5398</td></tr><tr><th>8</th><td>2017</td><td>13.5926</td><td>22.6913</td><td>13.0901</td><td>5.32052</td><td>27.3228</td><td>18.0469</td><td>9.45055</td><td>26.5542</td></tr><tr><th>9</th><td>2018</td><td>13.6196</td><td>22.7116</td><td>13.112</td><td>5.34111</td><td>27.3455</td><td>18.0629</td><td>9.47505</td><td>26.5686</td></tr><tr><th>10</th><td>2019</td><td>13.646</td><td>22.7316</td><td>13.1334</td><td>5.36102</td><td>27.368</td><td>18.0788</td><td>9.49883</td><td>26.5832</td></tr><tr><th>11</th><td>2020</td><td>13.6717</td><td>22.7515</td><td>13.1544</td><td>5.38034</td><td>27.3904</td><td>18.0946</td><td>9.52198</td><td>26.5979</td></tr><tr><th>12</th><td>2021</td><td>13.6968</td><td>22.7711</td><td>13.1748</td><td>5.39906</td><td>27.4125</td><td>18.1102</td><td>9.54448</td><td>26.6127</td></tr><tr><th>13</th><td>2022</td><td>13.7213</td><td>22.7906</td><td>13.1949</td><td>5.41725</td><td>27.4345</td><td>18.1257</td><td>9.56642</td><td>26.6275</td></tr><tr><th>14</th><td>2023</td><td>13.7454</td><td>22.81</td><td>13.2146</td><td>5.43505</td><td>27.4565</td><td>18.1411</td><td>9.58793</td><td>26.6425</td></tr><tr><th>15</th><td>2024</td><td>13.7691</td><td>22.8294</td><td>13.2342</td><td>5.4525</td><td>27.4784</td><td>18.1564</td><td>9.60909</td><td>26.6576</td></tr><tr><th>16</th><td>2025</td><td>13.7926</td><td>22.8487</td><td>13.2535</td><td>5.46964</td><td>27.5003</td><td>18.1718</td><td>9.62994</td><td>26.6729</td></tr><tr><th>17</th><td>2026</td><td>13.8158</td><td>22.868</td><td>13.2726</td><td>5.48653</td><td>27.5223</td><td>18.1871</td><td>9.65053</td><td>26.6883</td></tr><tr><th>18</th><td>2027</td><td>13.8388</td><td>22.8874</td><td>13.2917</td><td>5.50319</td><td>27.5443</td><td>18.2025</td><td>9.67089</td><td>26.7039</td></tr><tr><th>19</th><td>2028</td><td>13.8617</td><td>22.9068</td><td>13.3106</td><td>5.51964</td><td>27.5665</td><td>18.2179</td><td>9.69105</td><td>26.7197</td></tr><tr><th>20</th><td>2029</td><td>13.8844</td><td>22.9263</td><td>13.3294</td><td>5.53592</td><td>27.5887</td><td>18.2334</td><td>9.71104</td><td>26.7357</td></tr><tr><th>21</th><td>2030</td><td>13.907</td><td>22.9459</td><td>13.3482</td><td>5.55205</td><td>27.611</td><td>18.2489</td><td>9.73091</td><td>26.7519</td></tr><tr><th>22</th><td>2031</td><td>13.9296</td><td>22.9656</td><td>13.3669</td><td>5.56811</td><td>27.6336</td><td>18.2646</td><td>9.75073</td><td>26.7683</td></tr><tr><th>23</th><td>2032</td><td>13.9521</td><td>22.9855</td><td>13.3857</td><td>5.58405</td><td>27.6563</td><td>18.2803</td><td>9.77044</td><td>26.7849</td></tr><tr><th>24</th><td>2033</td><td>13.9744</td><td>23.0053</td><td>13.4043</td><td>5.5998</td><td>27.679</td><td>18.2961</td><td>9.78996</td><td>26.8017</td></tr><tr><th>25</th><td>2034</td><td>13.9966</td><td>23.0252</td><td>13.4228</td><td>5.61535</td><td>27.7017</td><td>18.3118</td><td>9.80928</td><td>26.8186</td></tr><tr><th>26</th><td>2035</td><td>14.0185</td><td>23.045</td><td>13.4412</td><td>5.63069</td><td>27.7244</td><td>18.3276</td><td>9.82838</td><td>26.8355</td></tr><tr><th>27</th><td>2036</td><td>14.0402</td><td>23.0647</td><td>13.4594</td><td>5.64582</td><td>27.7471</td><td>18.3432</td><td>9.84726</td><td>26.8525</td></tr><tr><th>28</th><td>2037</td><td>14.0617</td><td>23.0844</td><td>13.4774</td><td>5.66075</td><td>27.7697</td><td>18.3589</td><td>9.86592</td><td>26.8695</td></tr><tr><th>29</th><td>2038</td><td>14.083</td><td>23.104</td><td>13.4953</td><td>5.67547</td><td>27.7922</td><td>18.3744</td><td>9.88435</td><td>26.8866</td></tr><tr><th>30</th><td>2039</td><td>14.1041</td><td>23.1235</td><td>13.513</td><td>5.68998</td><td>27.8147</td><td>18.3899</td><td>9.90256</td><td>26.9036</td></tr><tr><th>&vellip;</th><td>&vellip;</td><td>&vellip;</td><td>&vellip;</td><td>&vellip;</td><td>&vellip;</td><td>&vellip;</td><td>&vellip;</td><td>&vellip;</td><td>&vellip;</td></tr></tbody></table></div>"
      ],
      "text/latex": [
       "\\begin{tabular}{r|cccccccccc}\n",
       "\t& Column1 & AFG & AGO & ALB & AND & ARE & ARG & ARM & ATG & \\\\\n",
       "\t\\hline\n",
       "\t& Int64 & Float64 & Float64 & Float64 & Float64 & Float64 & Float64 & Float64 & Float64 & \\\\\n",
       "\t\\hline\n",
       "\t1 & 2010 & 13.3489 & 22.5265 & 12.8954 & 5.128 & 27.1407 & 17.9162 & 9.22579 & 26.451 & $\\dots$ \\\\\n",
       "\t2 & 2011 & 13.3948 & 22.5549 & 12.9316 & 5.16535 & 27.1716 & 17.9387 & 9.26875 & 26.4664 & $\\dots$ \\\\\n",
       "\t3 & 2012 & 13.435 & 22.5809 & 12.9635 & 5.19756 & 27.2001 & 17.9593 & 9.30607 & 26.4814 & $\\dots$ \\\\\n",
       "\t4 & 2013 & 13.4711 & 22.605 & 12.9923 & 5.22623 & 27.2267 & 17.9784 & 9.33946 & 26.4963 & $\\dots$ \\\\\n",
       "\t5 & 2014 & 13.5043 & 22.6278 & 13.0189 & 5.25229 & 27.2519 & 17.9965 & 9.36998 & 26.5109 & $\\dots$ \\\\\n",
       "\t6 & 2015 & 13.5353 & 22.6496 & 13.0438 & 5.27641 & 27.2762 & 18.0138 & 9.39834 & 26.5254 & $\\dots$ \\\\\n",
       "\t7 & 2016 & 13.5646 & 22.6707 & 13.0674 & 5.29904 & 27.2997 & 18.0305 & 9.42507 & 26.5398 & $\\dots$ \\\\\n",
       "\t8 & 2017 & 13.5926 & 22.6913 & 13.0901 & 5.32052 & 27.3228 & 18.0469 & 9.45055 & 26.5542 & $\\dots$ \\\\\n",
       "\t9 & 2018 & 13.6196 & 22.7116 & 13.112 & 5.34111 & 27.3455 & 18.0629 & 9.47505 & 26.5686 & $\\dots$ \\\\\n",
       "\t10 & 2019 & 13.646 & 22.7316 & 13.1334 & 5.36102 & 27.368 & 18.0788 & 9.49883 & 26.5832 & $\\dots$ \\\\\n",
       "\t11 & 2020 & 13.6717 & 22.7515 & 13.1544 & 5.38034 & 27.3904 & 18.0946 & 9.52198 & 26.5979 & $\\dots$ \\\\\n",
       "\t12 & 2021 & 13.6968 & 22.7711 & 13.1748 & 5.39906 & 27.4125 & 18.1102 & 9.54448 & 26.6127 & $\\dots$ \\\\\n",
       "\t13 & 2022 & 13.7213 & 22.7906 & 13.1949 & 5.41725 & 27.4345 & 18.1257 & 9.56642 & 26.6275 & $\\dots$ \\\\\n",
       "\t14 & 2023 & 13.7454 & 22.81 & 13.2146 & 5.43505 & 27.4565 & 18.1411 & 9.58793 & 26.6425 & $\\dots$ \\\\\n",
       "\t15 & 2024 & 13.7691 & 22.8294 & 13.2342 & 5.4525 & 27.4784 & 18.1564 & 9.60909 & 26.6576 & $\\dots$ \\\\\n",
       "\t16 & 2025 & 13.7926 & 22.8487 & 13.2535 & 5.46964 & 27.5003 & 18.1718 & 9.62994 & 26.6729 & $\\dots$ \\\\\n",
       "\t17 & 2026 & 13.8158 & 22.868 & 13.2726 & 5.48653 & 27.5223 & 18.1871 & 9.65053 & 26.6883 & $\\dots$ \\\\\n",
       "\t18 & 2027 & 13.8388 & 22.8874 & 13.2917 & 5.50319 & 27.5443 & 18.2025 & 9.67089 & 26.7039 & $\\dots$ \\\\\n",
       "\t19 & 2028 & 13.8617 & 22.9068 & 13.3106 & 5.51964 & 27.5665 & 18.2179 & 9.69105 & 26.7197 & $\\dots$ \\\\\n",
       "\t20 & 2029 & 13.8844 & 22.9263 & 13.3294 & 5.53592 & 27.5887 & 18.2334 & 9.71104 & 26.7357 & $\\dots$ \\\\\n",
       "\t21 & 2030 & 13.907 & 22.9459 & 13.3482 & 5.55205 & 27.611 & 18.2489 & 9.73091 & 26.7519 & $\\dots$ \\\\\n",
       "\t22 & 2031 & 13.9296 & 22.9656 & 13.3669 & 5.56811 & 27.6336 & 18.2646 & 9.75073 & 26.7683 & $\\dots$ \\\\\n",
       "\t23 & 2032 & 13.9521 & 22.9855 & 13.3857 & 5.58405 & 27.6563 & 18.2803 & 9.77044 & 26.7849 & $\\dots$ \\\\\n",
       "\t24 & 2033 & 13.9744 & 23.0053 & 13.4043 & 5.5998 & 27.679 & 18.2961 & 9.78996 & 26.8017 & $\\dots$ \\\\\n",
       "\t25 & 2034 & 13.9966 & 23.0252 & 13.4228 & 5.61535 & 27.7017 & 18.3118 & 9.80928 & 26.8186 & $\\dots$ \\\\\n",
       "\t26 & 2035 & 14.0185 & 23.045 & 13.4412 & 5.63069 & 27.7244 & 18.3276 & 9.82838 & 26.8355 & $\\dots$ \\\\\n",
       "\t27 & 2036 & 14.0402 & 23.0647 & 13.4594 & 5.64582 & 27.7471 & 18.3432 & 9.84726 & 26.8525 & $\\dots$ \\\\\n",
       "\t28 & 2037 & 14.0617 & 23.0844 & 13.4774 & 5.66075 & 27.7697 & 18.3589 & 9.86592 & 26.8695 & $\\dots$ \\\\\n",
       "\t29 & 2038 & 14.083 & 23.104 & 13.4953 & 5.67547 & 27.7922 & 18.3744 & 9.88435 & 26.8866 & $\\dots$ \\\\\n",
       "\t30 & 2039 & 14.1041 & 23.1235 & 13.513 & 5.68998 & 27.8147 & 18.3899 & 9.90256 & 26.9036 & $\\dots$ \\\\\n",
       "\t$\\dots$ & $\\dots$ & $\\dots$ & $\\dots$ & $\\dots$ & $\\dots$ & $\\dots$ & $\\dots$ & $\\dots$ & $\\dots$ &  \\\\\n",
       "\\end{tabular}\n"
      ],
      "text/plain": [
       "\u001b[1m191×195 DataFrame\u001b[0m\n",
       "\u001b[1m Row \u001b[0m│\u001b[1m Column1 \u001b[0m\u001b[1m AFG     \u001b[0m\u001b[1m AGO     \u001b[0m\u001b[1m ALB     \u001b[0m\u001b[1m AND     \u001b[0m\u001b[1m ARE     \u001b[0m\u001b[1m ARG     \u001b[0m\u001b[1m ARM     \u001b[0m ⋯\n",
       "\u001b[1m     \u001b[0m│\u001b[90m Int64   \u001b[0m\u001b[90m Float64 \u001b[0m\u001b[90m Float64 \u001b[0m\u001b[90m Float64 \u001b[0m\u001b[90m Float64 \u001b[0m\u001b[90m Float64 \u001b[0m\u001b[90m Float64 \u001b[0m\u001b[90m Float64 \u001b[0m ⋯\n",
       "─────┼──────────────────────────────────────────────────────────────────────────\n",
       "   1 │    2010  13.3489  22.5265  12.8954  5.128    27.1407  17.9162   9.22579 ⋯\n",
       "   2 │    2011  13.3948  22.5549  12.9316  5.16535  27.1716  17.9387   9.26875\n",
       "   3 │    2012  13.435   22.5809  12.9635  5.19756  27.2001  17.9593   9.30607\n",
       "   4 │    2013  13.4711  22.605   12.9923  5.22623  27.2267  17.9784   9.33946\n",
       "   5 │    2014  13.5043  22.6278  13.0189  5.25229  27.2519  17.9965   9.36998 ⋯\n",
       "   6 │    2015  13.5353  22.6496  13.0438  5.27641  27.2762  18.0138   9.39834\n",
       "   7 │    2016  13.5646  22.6707  13.0674  5.29904  27.2997  18.0305   9.42507\n",
       "   8 │    2017  13.5926  22.6913  13.0901  5.32052  27.3228  18.0469   9.45055\n",
       "   9 │    2018  13.6196  22.7116  13.112   5.34111  27.3455  18.0629   9.47505 ⋯\n",
       "  10 │    2019  13.646   22.7316  13.1334  5.36102  27.368   18.0788   9.49883\n",
       "  11 │    2020  13.6717  22.7515  13.1544  5.38034  27.3904  18.0946   9.52198\n",
       "  ⋮  │    ⋮        ⋮        ⋮        ⋮        ⋮        ⋮        ⋮        ⋮     ⋱\n",
       " 182 │    2191  15.0833  24.1344  14.3529  6.32367  28.9897  19.1929  10.726\n",
       " 183 │    2192  15.0859  24.1372  14.3552  6.32527  28.993   19.1952  10.7281  ⋯\n",
       " 184 │    2193  15.0885  24.1401  14.3574  6.32686  28.9964  19.1975  10.7303\n",
       " 185 │    2194  15.091   24.143   14.3597  6.32845  28.9997  19.1997  10.7324\n",
       " 186 │    2195  15.0936  24.1458  14.3619  6.33003  29.0031  19.202   10.7345\n",
       " 187 │    2196  15.0962  24.1486  14.3641  6.3316   29.0064  19.2042  10.7366  ⋯\n",
       " 188 │    2197  15.0987  24.1515  14.3663  6.33316  29.0097  19.2065  10.7387\n",
       " 189 │    2198  15.1012  24.1543  14.3685  6.33472  29.013   19.2087  10.7408\n",
       " 190 │    2199  15.1037  24.1571  14.3707  6.33627  29.0162  19.2109  10.7428\n",
       " 191 │    2200  15.1063  24.1599  14.3729  6.33781  29.0195  19.2132  10.7449  ⋯\n",
       "\u001b[36m                                                187 columns and 170 rows omitted\u001b[0m"
      ]
     },
     "execution_count": 3,
     "metadata": {},
     "output_type": "execute_result"
    }
   ],
   "source": [
    "benchmark_temp = CSV.read(\"../data/benchmark/AMOC_Temperature-May2022.csv\", DataFrame)"
   ]
  },
  {
   "cell_type": "code",
   "execution_count": 4,
   "id": "143be5e8",
   "metadata": {},
   "outputs": [
    {
     "data": {
      "text/html": [
       "<div class=\"data-frame\"><p>191 rows × 4 columns (omitted printing of 1 columns)</p><table class=\"data-frame\"><thead><tr><th></th><th>Year</th><th>Temperature</th><th>SLR from thermal expansion and melt from glaciers and small ice caps (m)</th></tr><tr><th></th><th title=\"Int64\">Int64</th><th title=\"Float64\">Float64</th><th title=\"Float64\">Float64</th></tr></thead><tbody><tr><th>1</th><td>2010</td><td>0.854</td><td>0.04</td></tr><tr><th>2</th><td>2011</td><td>0.905495</td><td>0.0414446</td></tr><tr><th>3</th><td>2012</td><td>0.950895</td><td>0.0429617</td></tr><tr><th>4</th><td>2013</td><td>0.992041</td><td>0.0445444</td></tr><tr><th>5</th><td>2014</td><td>1.03005</td><td>0.0461877</td></tr><tr><th>6</th><td>2015</td><td>1.06573</td><td>0.047888</td></tr><tr><th>7</th><td>2016</td><td>1.09965</td><td>0.0496424</td></tr><tr><th>8</th><td>2017</td><td>1.13223</td><td>0.0514487</td></tr><tr><th>9</th><td>2018</td><td>1.1638</td><td>0.0533055</td></tr><tr><th>10</th><td>2019</td><td>1.19466</td><td>0.0552114</td></tr><tr><th>11</th><td>2020</td><td>1.22491</td><td>0.0571656</td></tr><tr><th>12</th><td>2021</td><td>1.25448</td><td>0.059167</td></tr><tr><th>13</th><td>2022</td><td>1.28348</td><td>0.0612147</td></tr><tr><th>14</th><td>2023</td><td>1.31209</td><td>0.063308</td></tr><tr><th>15</th><td>2024</td><td>1.34038</td><td>0.0654465</td></tr><tr><th>16</th><td>2025</td><td>1.3684</td><td>0.0676296</td></tr><tr><th>17</th><td>2026</td><td>1.3962</td><td>0.0698571</td></tr><tr><th>18</th><td>2027</td><td>1.42383</td><td>0.0721287</td></tr><tr><th>19</th><td>2028</td><td>1.45132</td><td>0.0744441</td></tr><tr><th>20</th><td>2029</td><td>1.4787</td><td>0.0768033</td></tr><tr><th>21</th><td>2030</td><td>1.50603</td><td>0.079206</td></tr><tr><th>22</th><td>2031</td><td>1.53341</td><td>0.0816524</td></tr><tr><th>23</th><td>2032</td><td>1.56075</td><td>0.0841424</td></tr><tr><th>24</th><td>2033</td><td>1.58794</td><td>0.0866758</td></tr><tr><th>25</th><td>2034</td><td>1.61495</td><td>0.0892523</td></tr><tr><th>26</th><td>2035</td><td>1.64176</td><td>0.0918715</td></tr><tr><th>27</th><td>2036</td><td>1.66836</td><td>0.0945332</td></tr><tr><th>28</th><td>2037</td><td>1.69473</td><td>0.097237</td></tr><tr><th>29</th><td>2038</td><td>1.72088</td><td>0.0999825</td></tr><tr><th>30</th><td>2039</td><td>1.74679</td><td>0.102769</td></tr><tr><th>&vellip;</th><td>&vellip;</td><td>&vellip;</td><td>&vellip;</td></tr></tbody></table></div>"
      ],
      "text/latex": [
       "\\begin{tabular}{r|cccc}\n",
       "\t& Year & Temperature & SLR from thermal expansion and melt from glaciers and small ice caps (m) & \\\\\n",
       "\t\\hline\n",
       "\t& Int64 & Float64 & Float64 & \\\\\n",
       "\t\\hline\n",
       "\t1 & 2010 & 0.854 & 0.04 & $\\dots$ \\\\\n",
       "\t2 & 2011 & 0.905495 & 0.0414446 & $\\dots$ \\\\\n",
       "\t3 & 2012 & 0.950895 & 0.0429617 & $\\dots$ \\\\\n",
       "\t4 & 2013 & 0.992041 & 0.0445444 & $\\dots$ \\\\\n",
       "\t5 & 2014 & 1.03005 & 0.0461877 & $\\dots$ \\\\\n",
       "\t6 & 2015 & 1.06573 & 0.047888 & $\\dots$ \\\\\n",
       "\t7 & 2016 & 1.09965 & 0.0496424 & $\\dots$ \\\\\n",
       "\t8 & 2017 & 1.13223 & 0.0514487 & $\\dots$ \\\\\n",
       "\t9 & 2018 & 1.1638 & 0.0533055 & $\\dots$ \\\\\n",
       "\t10 & 2019 & 1.19466 & 0.0552114 & $\\dots$ \\\\\n",
       "\t11 & 2020 & 1.22491 & 0.0571656 & $\\dots$ \\\\\n",
       "\t12 & 2021 & 1.25448 & 0.059167 & $\\dots$ \\\\\n",
       "\t13 & 2022 & 1.28348 & 0.0612147 & $\\dots$ \\\\\n",
       "\t14 & 2023 & 1.31209 & 0.063308 & $\\dots$ \\\\\n",
       "\t15 & 2024 & 1.34038 & 0.0654465 & $\\dots$ \\\\\n",
       "\t16 & 2025 & 1.3684 & 0.0676296 & $\\dots$ \\\\\n",
       "\t17 & 2026 & 1.3962 & 0.0698571 & $\\dots$ \\\\\n",
       "\t18 & 2027 & 1.42383 & 0.0721287 & $\\dots$ \\\\\n",
       "\t19 & 2028 & 1.45132 & 0.0744441 & $\\dots$ \\\\\n",
       "\t20 & 2029 & 1.4787 & 0.0768033 & $\\dots$ \\\\\n",
       "\t21 & 2030 & 1.50603 & 0.079206 & $\\dots$ \\\\\n",
       "\t22 & 2031 & 1.53341 & 0.0816524 & $\\dots$ \\\\\n",
       "\t23 & 2032 & 1.56075 & 0.0841424 & $\\dots$ \\\\\n",
       "\t24 & 2033 & 1.58794 & 0.0866758 & $\\dots$ \\\\\n",
       "\t25 & 2034 & 1.61495 & 0.0892523 & $\\dots$ \\\\\n",
       "\t26 & 2035 & 1.64176 & 0.0918715 & $\\dots$ \\\\\n",
       "\t27 & 2036 & 1.66836 & 0.0945332 & $\\dots$ \\\\\n",
       "\t28 & 2037 & 1.69473 & 0.097237 & $\\dots$ \\\\\n",
       "\t29 & 2038 & 1.72088 & 0.0999825 & $\\dots$ \\\\\n",
       "\t30 & 2039 & 1.74679 & 0.102769 & $\\dots$ \\\\\n",
       "\t$\\dots$ & $\\dots$ & $\\dots$ & $\\dots$ &  \\\\\n",
       "\\end{tabular}\n"
      ],
      "text/plain": [
       "\u001b[1m191×4 DataFrame\u001b[0m\n",
       "\u001b[1m Row \u001b[0m│\u001b[1m Year  \u001b[0m\u001b[1m Temperature \u001b[0m\u001b[1m SLR from thermal expansion and melt from glaciers a\u001b[0m ⋯\n",
       "\u001b[1m     \u001b[0m│\u001b[90m Int64 \u001b[0m\u001b[90m Float64     \u001b[0m\u001b[90m Float64                                            \u001b[0m ⋯\n",
       "─────┼──────────────────────────────────────────────────────────────────────────\n",
       "   1 │  2010     0.854                                                         ⋯\n",
       "   2 │  2011     0.905495\n",
       "   3 │  2012     0.950895\n",
       "   4 │  2013     0.992041\n",
       "   5 │  2014     1.03005                                                       ⋯\n",
       "   6 │  2015     1.06573\n",
       "   7 │  2016     1.09965\n",
       "   8 │  2017     1.13223\n",
       "   9 │  2018     1.1638                                                        ⋯\n",
       "  10 │  2019     1.19466\n",
       "  11 │  2020     1.22491\n",
       "  ⋮  │   ⋮         ⋮                                          ⋮                ⋱\n",
       " 182 │  2191     2.98842\n",
       " 183 │  2192     2.99179                                                       ⋯\n",
       " 184 │  2193     2.99513\n",
       " 185 │  2194     2.99847\n",
       " 186 │  2195     3.00179\n",
       " 187 │  2196     3.00509                                                       ⋯\n",
       " 188 │  2197     3.00838\n",
       " 189 │  2198     3.01166\n",
       " 190 │  2199     3.01493\n",
       " 191 │  2200     3.01817                                                       ⋯\n",
       "\u001b[36m                                                  2 columns and 170 rows omitted\u001b[0m"
      ]
     },
     "execution_count": 4,
     "metadata": {},
     "output_type": "execute_result"
    }
   ],
   "source": [
    "benchmark_slr = CSV.read(\"../data/benchmark/SLRModel-May2022.csv\", DataFrame)"
   ]
  },
  {
   "cell_type": "code",
   "execution_count": 5,
   "id": "630459ed",
   "metadata": {},
   "outputs": [
    {
     "data": {
      "text/plain": [
       "addConsumption (generic function with 1 method)"
      ]
     },
     "execution_count": 5,
     "metadata": {},
     "output_type": "execute_result"
    }
   ],
   "source": [
    "include(\"../src/components/Consumption.jl\")"
   ]
  },
  {
   "cell_type": "code",
   "execution_count": 6,
   "id": "b6ff02aa",
   "metadata": {},
   "outputs": [
    {
     "data": {
      "text/plain": [
       "Mimi.Model\n",
       "  Module: Mimi\n",
       "  Components:\n",
       "  Built: false\n"
      ]
     },
     "execution_count": 6,
     "metadata": {},
     "output_type": "execute_result"
    }
   ],
   "source": [
    "model = test_model()"
   ]
  },
  {
   "cell_type": "code",
   "execution_count": 7,
   "id": "7c74c3a3",
   "metadata": {},
   "outputs": [
    {
     "ename": "LoadError",
     "evalue": "ArgumentError: syntax df[column] is not supported use df[!, column] instead",
     "output_type": "error",
     "traceback": [
      "ArgumentError: syntax df[column] is not supported use df[!, column] instead",
      "",
      "Stacktrace:",
      "  [1] getindex(#unused#::DataFrame, #unused#::Symbol)",
      "    @ DataFrames C:\\Users\\DIETZS\\.julia\\packages\\DataFrames\\BM4OQ\\src\\abstractdataframe\\abstractdataframe.jl:2257",
      "  [2] getpop_ssp(region::SubString{String15}, scenario::String, year::Int64)",
      "    @ Main C:\\Users\\DIETZS\\Dropbox\\Tipping points in climate change economics\\Mimi testbox\\MimiMETA\\src\\lib\\gdppc.jl:65",
      "  [3] getpop_ssp(region::SubString{String15}, scenario::String, year::Int64)",
      "    @ Main C:\\Users\\DIETZS\\Dropbox\\Tipping points in climate change economics\\Mimi testbox\\MimiMETA\\src\\lib\\gdppc.jl:72",
      "  [4] getpopweight_ssp(region::SubString{String15}, scenario::String)",
      "    @ Main C:\\Users\\DIETZS\\Dropbox\\Tipping points in climate change economics\\Mimi testbox\\MimiMETA\\src\\lib\\gdppc.jl:59",
      "  [5] #35",
      "    @ .\\none:0 [inlined]",
      "  [6] iterate",
      "    @ .\\generator.jl:47 [inlined]",
      "  [7] collect(itr::Base.Generator{Vector{SubString{String15}}, var\"#35#43\"{String}})",
      "    @ Base .\\array.jl:724",
      "  [8] addConsumption(model::Model, toption::String, slroption::String, ssp::String)",
      "    @ Main C:\\Users\\DIETZS\\Dropbox\\Tipping points in climate change economics\\Mimi testbox\\MimiMETA\\src\\components\\Consumption.jl:130",
      "  [9] top-level scope",
      "    @ In[7]:1",
      " [10] eval",
      "    @ .\\boot.jl:373 [inlined]",
      " [11] include_string(mapexpr::typeof(REPL.softscope), mod::Module, code::String, filename::String)",
      "    @ Base .\\loading.jl:1196"
     ]
    }
   ],
   "source": [
    "cons = addConsumption(model, \"none\", \"none\", \"SSP2\")"
   ]
  },
  {
   "cell_type": "code",
   "execution_count": 8,
   "id": "c5be483b",
   "metadata": {},
   "outputs": [
    {
     "ename": "LoadError",
     "evalue": "UndefVarError: cons not defined",
     "output_type": "error",
     "traceback": [
      "UndefVarError: cons not defined",
      "",
      "Stacktrace:",
      " [1] top-level scope",
      "   @ In[8]:1",
      " [2] eval",
      "   @ .\\boot.jl:373 [inlined]",
      " [3] include_string(mapexpr::typeof(REPL.softscope), mod::Module, code::String, filename::String)",
      "   @ Base .\\loading.jl:1196"
     ]
    }
   ],
   "source": [
    "cons[:T_country] = benchmark_temp[!, 2:end]"
   ]
  },
  {
   "cell_type": "code",
   "execution_count": null,
   "id": "5866bbfd",
   "metadata": {},
   "outputs": [],
   "source": []
  }
 ],
 "metadata": {
  "kernelspec": {
   "display_name": "Julia 1.7.1",
   "language": "julia",
   "name": "julia-1.7"
  },
  "language_info": {
   "file_extension": ".jl",
   "mimetype": "application/julia",
   "name": "julia",
   "version": "1.7.1"
  }
 },
 "nbformat": 4,
 "nbformat_minor": 5
}
